{
 "cells": [
  {
   "cell_type": "markdown",
   "id": "d44090f4",
   "metadata": {},
   "source": [
    "https://www.kdnuggets.com/2020/07/building-content-based-book-recommendation-engine.html <br>\n",
    "https://medium.com/@lucasdesa/text-clustering-with-k-means-a039d84a941b <br>\n",
    "https://scikit-learn.org/stable/auto_examples/text/plot_document_clustering.html"
   ]
  },
  {
   "cell_type": "markdown",
   "id": "f4a5c6fe",
   "metadata": {},
   "source": [
    "**Is Stemming or lemmatization necessary?!**"
   ]
  },
  {
   "cell_type": "markdown",
   "id": "0c81f294",
   "metadata": {},
   "source": [
    "# Recommending Web Articles (Data Wrangling) \n",
    "By: MAHMOUD NAGY | MAY 2022"
   ]
  },
  {
   "cell_type": "markdown",
   "id": "31bf132e",
   "metadata": {},
   "source": [
    "## Table of Contents\n",
    "<ul>\n",
    "<li><a href=\"#load\">Step 0: Load the Data</a></li>\n",
    "<li><a href=\"#nan\">Step 1: Check for NaNs</a></li>\n",
    "<li><a href=\"#duplicate\">Step 2: Check for Duplicates</a></li>\n",
    "<li><a href=\"#short\">Step 3: Check short Titles</a></li>\n",
    "<li><a href=\"#preprocess\">Step 4: Text Preprocessing</a></li>  \n",
    "<li><a href=\"#save\">Step 5: Save The Cleaned DataFrame</a></li>\n",
    "<li><a href=\"#end\">End of Notebook</a></li>  \n",
    "</ul>"
   ]
  },
  {
   "cell_type": "markdown",
   "id": "682f4fb5",
   "metadata": {},
   "source": [
    "**Your team leader requests from you**\n",
    "- build a classifier for the articles that can use in the recommendation. <br>\n",
    "- In addition to, grouping the articles under each category into multiple groups, for example: <br>\n",
    "Articles with the **Engineering** category will be grouped into **4 groups** each group with a dummy name e.g. group1, group2, ... etc. \n",
    "    - group1 will be mapped into software design \n",
    "    - group2 will be mapped into mobile development \n",
    "\n",
    "**you are responsible only for the grouping, they need only:** <br>\n",
    "<font color='blue'> Engineering </font>\n",
    "- group1 = [Article#1, Article#5, Article#9, ... etc.]\n",
    "- group2 = [Article#2, Article#15, Article#91, ... etc.]\n",
    "- group3 = [Article#10, Article#25, Article#90, ... etc.]\n",
    "- group4 = [Article#11, Article#4, Article#6, ... etc.] \n",
    "\n",
    "<font color='blue'> and other categories. <br>\n",
    ".<br>\n",
    ".<br>\n",
    ".</font>\n",
    "\n",
    "\n",
    "**Feel free to choose your classification algorithm and all the pre-processing needed on the data.**\n",
    "\n",
    "The team shares with you a JSON file for a group of categorized articles as you will divide those articles into 3 groups: training data, validating data, and testing data. \n",
    "To measure the accuracy of each algorithm, at this level you will measure the accuracy by the percent of matching only.\n",
    "\n",
    "**What we expected:**\n",
    "A GitHub repository includes:\n",
    "- Your **Notebook** with the code you used in cleaning and analyzing the data + your model + evaluation.\n",
    "- **JSON file** for the clusters output (to each category).\n",
    "- **PDF file** for the evaluation report that will be delivered to the leader (Make sure to mention all your steps in visualizing your results)."
   ]
  },
  {
   "cell_type": "markdown",
   "id": "5645c35b",
   "metadata": {},
   "source": [
    "<a id='load'></a>\n",
    "## Step 0: Load the Data\n",
    "<ul>\n",
    "<li><a href=\"#load\"><b>Step 0: Load the Data</b></a></li>\n",
    "<li><a href=\"#nan\">Step 1: Check for NaNs</a></li>\n",
    "<li><a href=\"#duplicate\">Step 2: Check for Duplicates</a></li>\n",
    "<li><a href=\"#short\">Step 3: Check short Titles</a></li>\n",
    "<li><a href=\"#preprocess\">Step 4: Text Preprocessing</a></li>\n",
    "<li><a href=\"#save\">Step 5: Save The Cleaned DataFrame</a></li>\n",
    "<li><a href=\"#end\">End of Notebook</a></li>  \n",
    "</ul>"
   ]
  },
  {
   "cell_type": "code",
   "execution_count": 1,
   "id": "2dd2b2d5",
   "metadata": {},
   "outputs": [
    {
     "data": {
      "text/plain": [
       "<module 'helper' from '/Users/mnagy99/jupyter/Knowledge Officer Assignment/Recommending Web Articles/helper.py'>"
      ]
     },
     "execution_count": 1,
     "metadata": {},
     "output_type": "execute_result"
    }
   ],
   "source": [
    "from time import time\n",
    "import pandas as pd\n",
    "import numpy as np \n",
    "import json\n",
    "import matplotlib.pyplot as plt\n",
    "import seaborn as sns\n",
    "import helper\n",
    "import re\n",
    "import regex\n",
    "import string\n",
    "\n",
    "%matplotlib inline\n",
    "%config InlineBackend.figure_format = 'retina'\n",
    "\n",
    "import nltk\n",
    "from nltk.corpus import stopwords\n",
    "from nltk.tokenize import word_tokenize\n",
    "\n",
    "# punkt is a nltk library tool for tokenizing text documents. When we use an old or a degraded version of nltk module we generally need to download the remaining data .\n",
    "# You can do\n",
    "# nltk.download('punkt')\n",
    "# nltk.download('stopwords')\n",
    "\n",
    "# Fix random seed\n",
    "np.random.seed(42)\n",
    "\n",
    "import importlib\n",
    "importlib.reload(helper)"
   ]
  },
  {
   "cell_type": "code",
   "execution_count": 2,
   "id": "aeae8785",
   "metadata": {},
   "outputs": [
    {
     "name": "stdout",
     "output_type": "stream",
     "text": [
      "(2481, 3)\n"
     ]
    },
    {
     "data": {
      "text/html": [
       "<div>\n",
       "<style scoped>\n",
       "    .dataframe tbody tr th:only-of-type {\n",
       "        vertical-align: middle;\n",
       "    }\n",
       "\n",
       "    .dataframe tbody tr th {\n",
       "        vertical-align: top;\n",
       "    }\n",
       "\n",
       "    .dataframe thead th {\n",
       "        text-align: right;\n",
       "    }\n",
       "</style>\n",
       "<table border=\"1\" class=\"dataframe\">\n",
       "  <thead>\n",
       "    <tr style=\"text-align: right;\">\n",
       "      <th></th>\n",
       "      <th>body</th>\n",
       "      <th>title</th>\n",
       "      <th>category</th>\n",
       "    </tr>\n",
       "  </thead>\n",
       "  <tbody>\n",
       "    <tr>\n",
       "      <th>0</th>\n",
       "      <td>Protecting Netflix Viewing Privacy at Scale\\r\\...</td>\n",
       "      <td>Protecting Netflix Viewing Privacy at Scale</td>\n",
       "      <td>Engineering</td>\n",
       "    </tr>\n",
       "    <tr>\n",
       "      <th>1</th>\n",
       "      <td>Introducing Winston — Event driven Diagnostic ...</td>\n",
       "      <td>Introducing Winston - Event driven Diagnostic ...</td>\n",
       "      <td>Engineering</td>\n",
       "    </tr>\n",
       "    <tr>\n",
       "      <th>2</th>\n",
       "      <td>Performance &amp; Usage at Instagram\\r\\n\\r\\nAt Ins...</td>\n",
       "      <td>Performance &amp; Usage at Instagram</td>\n",
       "      <td>Engineering</td>\n",
       "    </tr>\n",
       "    <tr>\n",
       "      <th>3</th>\n",
       "      <td>The simple example of calculating and formatti...</td>\n",
       "      <td>Refactoring a javascript video store</td>\n",
       "      <td>Engineering</td>\n",
       "    </tr>\n",
       "    <tr>\n",
       "      <th>4</th>\n",
       "      <td>Billing applications have transactions that ne...</td>\n",
       "      <td>Netflix Billing Migration to AWS - Part III</td>\n",
       "      <td>Engineering</td>\n",
       "    </tr>\n",
       "  </tbody>\n",
       "</table>\n",
       "</div>"
      ],
      "text/plain": [
       "                                                body  \\\n",
       "0  Protecting Netflix Viewing Privacy at Scale\\r\\...   \n",
       "1  Introducing Winston — Event driven Diagnostic ...   \n",
       "2  Performance & Usage at Instagram\\r\\n\\r\\nAt Ins...   \n",
       "3  The simple example of calculating and formatti...   \n",
       "4  Billing applications have transactions that ne...   \n",
       "\n",
       "                                               title     category  \n",
       "0        Protecting Netflix Viewing Privacy at Scale  Engineering  \n",
       "1  Introducing Winston - Event driven Diagnostic ...  Engineering  \n",
       "2                   Performance & Usage at Instagram  Engineering  \n",
       "3               Refactoring a javascript video store  Engineering  \n",
       "4        Netflix Billing Migration to AWS - Part III  Engineering  "
      ]
     },
     "execution_count": 2,
     "metadata": {},
     "output_type": "execute_result"
    }
   ],
   "source": [
    "with open('recommending_web_articles.json') as f:\n",
    "    my_json = json.load(f)\n",
    "df = pd.DataFrame(my_json)\n",
    "print(df.shape)\n",
    "df.head()"
   ]
  },
  {
   "cell_type": "code",
   "execution_count": 3,
   "id": "eeb94a59",
   "metadata": {},
   "outputs": [],
   "source": [
    "# df.body[0]"
   ]
  },
  {
   "cell_type": "code",
   "execution_count": 4,
   "id": "66562d4a",
   "metadata": {},
   "outputs": [
    {
     "data": {
      "image/png": "[encoded data removed]",
      "text/plain": [
       "<Figure size 576x360 with 1 Axes>"
      ]
     },
     "metadata": {
      "image/png": {
       "height": 321,
       "width": 493
      },
      "needs_background": "light"
     },
     "output_type": "display_data"
    }
   ],
   "source": [
    "df.category.value_counts().plot(kind = 'bar', figsize = (8,5)  );\n",
    "plt.title('Category Counts');\n",
    "plt.xticks(rotation=0, size=13);"
   ]
  },
  {
   "cell_type": "code",
   "execution_count": 5,
   "id": "90a66241",
   "metadata": {},
   "outputs": [
    {
     "data": {
      "text/plain": [
       "Startups & Business    1071\n",
       "Product & Design        852\n",
       "Engineering             558\n",
       "Name: category, dtype: int64"
      ]
     },
     "execution_count": 5,
     "metadata": {},
     "output_type": "execute_result"
    }
   ],
   "source": [
    "df.category.value_counts()"
   ]
  },
  {
   "cell_type": "markdown",
   "id": "30736631",
   "metadata": {},
   "source": [
    "<br>"
   ]
  },
  {
   "cell_type": "markdown",
   "id": "dff92063",
   "metadata": {},
   "source": [
    "**Add a Word Count Column**"
   ]
  },
  {
   "cell_type": "code",
   "execution_count": 6,
   "id": "f3ecd8cb",
   "metadata": {},
   "outputs": [
    {
     "data": {
      "image/png": "[encoded data removed]",
      "text/plain": [
       "<Figure size 864x576 with 1 Axes>"
      ]
     },
     "metadata": {
      "image/png": {
       "height": 494,
       "width": 723
      },
      "needs_background": "light"
     },
     "output_type": "display_data"
    }
   ],
   "source": [
    "# Calculating the word count for articles\n",
    "df['n_words'] = df['body'].apply(lambda x: len(str(x).split()))# Plotting the word count\n",
    "df['n_words'].plot(kind='hist', bins = 50, figsize = (12,8),\n",
    "                   title='Word Count Distribution for aricles');\n",
    "plt.xlabel('Word Count');"
   ]
  },
  {
   "cell_type": "code",
   "execution_count": 7,
   "id": "be6d4077",
   "metadata": {},
   "outputs": [
    {
     "data": {
      "text/html": [
       "<div>\n",
       "<style scoped>\n",
       "    .dataframe tbody tr th:only-of-type {\n",
       "        vertical-align: middle;\n",
       "    }\n",
       "\n",
       "    .dataframe tbody tr th {\n",
       "        vertical-align: top;\n",
       "    }\n",
       "\n",
       "    .dataframe thead th {\n",
       "        text-align: right;\n",
       "    }\n",
       "</style>\n",
       "<table border=\"1\" class=\"dataframe\">\n",
       "  <thead>\n",
       "    <tr style=\"text-align: right;\">\n",
       "      <th></th>\n",
       "      <th>body</th>\n",
       "      <th>title</th>\n",
       "      <th>category</th>\n",
       "      <th>n_words</th>\n",
       "    </tr>\n",
       "  </thead>\n",
       "  <tbody>\n",
       "    <tr>\n",
       "      <th>23</th>\n",
       "      <td>Modern web development has many challenges, an...</td>\n",
       "      <td>Basics of Web Application Security: Authentica...</td>\n",
       "      <td>Engineering</td>\n",
       "      <td>15376</td>\n",
       "    </tr>\n",
       "    <tr>\n",
       "      <th>26</th>\n",
       "      <td>Modern web development has many challenges, an...</td>\n",
       "      <td>Basics of Web Application Security: Hash and S...</td>\n",
       "      <td>Engineering</td>\n",
       "      <td>15376</td>\n",
       "    </tr>\n",
       "    <tr>\n",
       "      <th>39</th>\n",
       "      <td>\\r\\n\\r\\n\\r\\n\\r\\n\\r\\n\\r\\n\\r\\n\\r\\nWant to start ...</td>\n",
       "      <td>The Fundraising Wisdom That Helped Our Founder...</td>\n",
       "      <td>Startups &amp; Business</td>\n",
       "      <td>10761</td>\n",
       "    </tr>\n",
       "    <tr>\n",
       "      <th>77</th>\n",
       "      <td>It's hard to say goodbye. A compilation of sta...</td>\n",
       "      <td>166 Startup Failure Post-Mortems</td>\n",
       "      <td>Startups &amp; Business</td>\n",
       "      <td>16350</td>\n",
       "    </tr>\n",
       "    <tr>\n",
       "      <th>281</th>\n",
       "      <td>From financial fraud to just running out money...</td>\n",
       "      <td>Why Acceptance of Failure is Critical to Start...</td>\n",
       "      <td>Startups &amp; Business</td>\n",
       "      <td>10150</td>\n",
       "    </tr>\n",
       "    <tr>\n",
       "      <th>337</th>\n",
       "      <td>Last updated August 16, 2016\\r\\n\\r\\nComplexity...</td>\n",
       "      <td>Best Practices for Building a Microservice Arc...</td>\n",
       "      <td>Engineering</td>\n",
       "      <td>10726</td>\n",
       "    </tr>\n",
       "    <tr>\n",
       "      <th>370</th>\n",
       "      <td>Modern web development has many challenges, an...</td>\n",
       "      <td>Basics of Web Application Security: Protect Us...</td>\n",
       "      <td>Engineering</td>\n",
       "      <td>15376</td>\n",
       "    </tr>\n",
       "    <tr>\n",
       "      <th>657</th>\n",
       "      <td>Modern web development has many challenges, an...</td>\n",
       "      <td>Basics of Web Application Security: Authorize ...</td>\n",
       "      <td>Engineering</td>\n",
       "      <td>15376</td>\n",
       "    </tr>\n",
       "    <tr>\n",
       "      <th>1504</th>\n",
       "      <td>00:00:00\\n\\n00:00:00\\n\\nIntroduction\\n\\nHi, I'...</td>\n",
       "      <td>Jennifer Johnson | Go-To-Market And Category D...</td>\n",
       "      <td>Product &amp; Design</td>\n",
       "      <td>11489</td>\n",
       "    </tr>\n",
       "    <tr>\n",
       "      <th>1592</th>\n",
       "      <td>We use ad-blockers as well, you know. We gotta...</td>\n",
       "      <td>Taking The Pattern Library To The Next Level</td>\n",
       "      <td>Product &amp; Design</td>\n",
       "      <td>11515</td>\n",
       "    </tr>\n",
       "    <tr>\n",
       "      <th>1824</th>\n",
       "      <td>Andy Baldacci: Brent thanks for coming on my s...</td>\n",
       "      <td>Brent Weaver on Closing 5- and 6-Figure Deals</td>\n",
       "      <td>Startups &amp; Business</td>\n",
       "      <td>10181</td>\n",
       "    </tr>\n",
       "    <tr>\n",
       "      <th>2014</th>\n",
       "      <td>This is Part 2 of a 3-Part series on dramatica...</td>\n",
       "      <td>How To Collect Up To 15% Email Optins From Fir...</td>\n",
       "      <td>Startups &amp; Business</td>\n",
       "      <td>11379</td>\n",
       "    </tr>\n",
       "  </tbody>\n",
       "</table>\n",
       "</div>"
      ],
      "text/plain": [
       "                                                   body  \\\n",
       "23    Modern web development has many challenges, an...   \n",
       "26    Modern web development has many challenges, an...   \n",
       "39    \\r\\n\\r\\n\\r\\n\\r\\n\\r\\n\\r\\n\\r\\n\\r\\nWant to start ...   \n",
       "77    It's hard to say goodbye. A compilation of sta...   \n",
       "281   From financial fraud to just running out money...   \n",
       "337   Last updated August 16, 2016\\r\\n\\r\\nComplexity...   \n",
       "370   Modern web development has many challenges, an...   \n",
       "657   Modern web development has many challenges, an...   \n",
       "1504  00:00:00\\n\\n00:00:00\\n\\nIntroduction\\n\\nHi, I'...   \n",
       "1592  We use ad-blockers as well, you know. We gotta...   \n",
       "1824  Andy Baldacci: Brent thanks for coming on my s...   \n",
       "2014  This is Part 2 of a 3-Part series on dramatica...   \n",
       "\n",
       "                                                  title             category  \\\n",
       "23    Basics of Web Application Security: Authentica...          Engineering   \n",
       "26    Basics of Web Application Security: Hash and S...          Engineering   \n",
       "39    The Fundraising Wisdom That Helped Our Founder...  Startups & Business   \n",
       "77                     166 Startup Failure Post-Mortems  Startups & Business   \n",
       "281   Why Acceptance of Failure is Critical to Start...  Startups & Business   \n",
       "337   Best Practices for Building a Microservice Arc...          Engineering   \n",
       "370   Basics of Web Application Security: Protect Us...          Engineering   \n",
       "657   Basics of Web Application Security: Authorize ...          Engineering   \n",
       "1504  Jennifer Johnson | Go-To-Market And Category D...     Product & Design   \n",
       "1592       Taking The Pattern Library To The Next Level     Product & Design   \n",
       "1824      Brent Weaver on Closing 5- and 6-Figure Deals  Startups & Business   \n",
       "2014  How To Collect Up To 15% Email Optins From Fir...  Startups & Business   \n",
       "\n",
       "      n_words  \n",
       "23      15376  \n",
       "26      15376  \n",
       "39      10761  \n",
       "77      16350  \n",
       "281     10150  \n",
       "337     10726  \n",
       "370     15376  \n",
       "657     15376  \n",
       "1504    11489  \n",
       "1592    11515  \n",
       "1824    10181  \n",
       "2014    11379  "
      ]
     },
     "execution_count": 7,
     "metadata": {},
     "output_type": "execute_result"
    }
   ],
   "source": [
    "# Explore the articles with more than 10k words \n",
    "long_articles = df.query(\" n_words > 10000\")\n",
    "long_articles"
   ]
  },
  {
   "cell_type": "markdown",
   "id": "8e51b7b9",
   "metadata": {},
   "source": [
    "### Sort the dataframe alphabetically by title"
   ]
  },
  {
   "cell_type": "code",
   "execution_count": 8,
   "id": "bc9a8c1b",
   "metadata": {},
   "outputs": [
    {
     "data": {
      "text/html": [
       "<div>\n",
       "<style scoped>\n",
       "    .dataframe tbody tr th:only-of-type {\n",
       "        vertical-align: middle;\n",
       "    }\n",
       "\n",
       "    .dataframe tbody tr th {\n",
       "        vertical-align: top;\n",
       "    }\n",
       "\n",
       "    .dataframe thead th {\n",
       "        text-align: right;\n",
       "    }\n",
       "</style>\n",
       "<table border=\"1\" class=\"dataframe\">\n",
       "  <thead>\n",
       "    <tr style=\"text-align: right;\">\n",
       "      <th></th>\n",
       "      <th>body</th>\n",
       "      <th>title</th>\n",
       "      <th>category</th>\n",
       "      <th>n_words</th>\n",
       "    </tr>\n",
       "  </thead>\n",
       "  <tbody>\n",
       "    <tr>\n",
       "      <th>1482</th>\n",
       "      <td>The Founder Institute’s “Startup Tips and Tric...</td>\n",
       "      <td>Make Your Entrepreneurial Journey Sufficientl...</td>\n",
       "      <td>Startups &amp; Business</td>\n",
       "      <td>116</td>\n",
       "    </tr>\n",
       "    <tr>\n",
       "      <th>342</th>\n",
       "      <td>JAXenter: Have microservices helped you achiev...</td>\n",
       "      <td>\"The size of a microservice is the size of the...</td>\n",
       "      <td>Engineering</td>\n",
       "      <td>450</td>\n",
       "    </tr>\n",
       "    <tr>\n",
       "      <th>142</th>\n",
       "      <td>Interview with Fabian Reinartz and Björn Raben...</td>\n",
       "      <td>\"Transition to microservices while running und...</td>\n",
       "      <td>Engineering</td>\n",
       "      <td>752</td>\n",
       "    </tr>\n",
       "    <tr>\n",
       "      <th>1079</th>\n",
       "      <td>Why do many companies sprint from initial conc...</td>\n",
       "      <td>01 MarGo to Market Fit: Achieving Sustainable ...</td>\n",
       "      <td>Startups &amp; Business</td>\n",
       "      <td>132</td>\n",
       "    </tr>\n",
       "    <tr>\n",
       "      <th>1240</th>\n",
       "      <td>1. Advisors\\n\\nChoose experienced advisors ear...</td>\n",
       "      <td>1. Advisors</td>\n",
       "      <td>Startups &amp; Business</td>\n",
       "      <td>1470</td>\n",
       "    </tr>\n",
       "  </tbody>\n",
       "</table>\n",
       "</div>"
      ],
      "text/plain": [
       "                                                   body  \\\n",
       "1482  The Founder Institute’s “Startup Tips and Tric...   \n",
       "342   JAXenter: Have microservices helped you achiev...   \n",
       "142   Interview with Fabian Reinartz and Björn Raben...   \n",
       "1079  Why do many companies sprint from initial conc...   \n",
       "1240  1. Advisors\\n\\nChoose experienced advisors ear...   \n",
       "\n",
       "                                                  title             category  \\\n",
       "1482   Make Your Entrepreneurial Journey Sufficientl...  Startups & Business   \n",
       "342   \"The size of a microservice is the size of the...          Engineering   \n",
       "142   \"Transition to microservices while running und...          Engineering   \n",
       "1079  01 MarGo to Market Fit: Achieving Sustainable ...  Startups & Business   \n",
       "1240                                        1. Advisors  Startups & Business   \n",
       "\n",
       "      n_words  \n",
       "1482      116  \n",
       "342       450  \n",
       "142       752  \n",
       "1079      132  \n",
       "1240     1470  "
      ]
     },
     "execution_count": 8,
     "metadata": {},
     "output_type": "execute_result"
    }
   ],
   "source": [
    "df.sort_values(by='title', inplace=True)\n",
    "df.head()"
   ]
  },
  {
   "cell_type": "markdown",
   "id": "4b82c434",
   "metadata": {},
   "source": [
    "<br>"
   ]
  },
  {
   "cell_type": "markdown",
   "id": "246fd22d",
   "metadata": {},
   "source": [
    "<a id='nan'></a>\n",
    "## Step 1: Check for NaNs\n",
    "<ul>\n",
    "<li><a href=\"#load\">Step 0: Load the Data</a></li>\n",
    "<li><a href=\"#nan\"><b>Step 1: Check for NaNs</b></a></li>\n",
    "<li><a href=\"#duplicate\">Step 2: Check for Duplicates</a></li>\n",
    "<li><a href=\"#short\">Step 3: Check short Titles</a></li>\n",
    "<li><a href=\"#preprocess\">Step 4: Text Preprocessing</a></li> \n",
    "<li><a href=\"#save\">Step 5: Save The Cleaned DataFrame</a></li>\n",
    "<li><a href=\"#end\">End of Notebook</a></li>  \n",
    "</ul>"
   ]
  },
  {
   "cell_type": "code",
   "execution_count": 9,
   "id": "96251123",
   "metadata": {},
   "outputs": [
    {
     "name": "stdout",
     "output_type": "stream",
     "text": [
      "<class 'pandas.core.frame.DataFrame'>\n",
      "Int64Index: 2481 entries, 1482 to 2118\n",
      "Data columns (total 4 columns):\n",
      " #   Column    Non-Null Count  Dtype \n",
      "---  ------    --------------  ----- \n",
      " 0   body      2481 non-null   object\n",
      " 1   title     2481 non-null   object\n",
      " 2   category  2481 non-null   object\n",
      " 3   n_words   2481 non-null   int64 \n",
      "dtypes: int64(1), object(3)\n",
      "memory usage: 96.9+ KB\n"
     ]
    }
   ],
   "source": [
    "df.info()"
   ]
  },
  {
   "cell_type": "code",
   "execution_count": 10,
   "id": "73493658",
   "metadata": {},
   "outputs": [
    {
     "data": {
      "text/plain": [
       "49"
      ]
     },
     "execution_count": 10,
     "metadata": {},
     "output_type": "execute_result"
    }
   ],
   "source": [
    "# df[(df == '').any(axis=1)]\n",
    "(df['n_words']==0).sum()"
   ]
  },
  {
   "cell_type": "code",
   "execution_count": 11,
   "id": "059fb494",
   "metadata": {},
   "outputs": [],
   "source": [
    "# Drop the words count column\n",
    "df.drop(columns='n_words', inplace=True)"
   ]
  },
  {
   "cell_type": "markdown",
   "id": "713d1bf5",
   "metadata": {},
   "source": [
    "**Replace White Spaces with NaNs**"
   ]
  },
  {
   "cell_type": "code",
   "execution_count": 12,
   "id": "2de98225",
   "metadata": {},
   "outputs": [],
   "source": [
    "# df.replace('', np.nan, inplace=True)\n",
    "# df.info()"
   ]
  },
  {
   "cell_type": "code",
   "execution_count": 13,
   "id": "a1556e3e",
   "metadata": {},
   "outputs": [],
   "source": [
    "# df.replace(' ', np.nan, inplace=True)\n",
    "# df.info()"
   ]
  },
  {
   "cell_type": "code",
   "execution_count": 14,
   "id": "ae21b64b",
   "metadata": {},
   "outputs": [
    {
     "name": "stdout",
     "output_type": "stream",
     "text": [
      "<class 'pandas.core.frame.DataFrame'>\n",
      "Int64Index: 2481 entries, 1482 to 2118\n",
      "Data columns (total 3 columns):\n",
      " #   Column    Non-Null Count  Dtype \n",
      "---  ------    --------------  ----- \n",
      " 0   body      2432 non-null   object\n",
      " 1   title     2481 non-null   object\n",
      " 2   category  2481 non-null   object\n",
      "dtypes: object(3)\n",
      "memory usage: 77.5+ KB\n"
     ]
    }
   ],
   "source": [
    "# ^ --> Starts with\n",
    "# \\s --> Returns a match where the string contains a white space character\n",
    "# * --> Zero or more occurrences\n",
    "# $ --> Ends with\n",
    "df.replace(r'^\\s*$', np.nan, regex=True, inplace=True)\n",
    "df.info()"
   ]
  },
  {
   "cell_type": "code",
   "execution_count": 15,
   "id": "0bc4555f",
   "metadata": {},
   "outputs": [
    {
     "data": {
      "text/plain": [
       "body        49\n",
       "title        0\n",
       "category     0\n",
       "dtype: int64"
      ]
     },
     "execution_count": 15,
     "metadata": {},
     "output_type": "execute_result"
    }
   ],
   "source": [
    "df.isnull().sum()"
   ]
  },
  {
   "cell_type": "code",
   "execution_count": 16,
   "id": "e1b782f8",
   "metadata": {},
   "outputs": [],
   "source": [
    "df.fillna('missing', inplace=True)"
   ]
  },
  {
   "cell_type": "markdown",
   "id": "d26b3d53",
   "metadata": {},
   "source": [
    "<br>"
   ]
  },
  {
   "cell_type": "markdown",
   "id": "a7095e37",
   "metadata": {},
   "source": [
    "<a id='duplicate'></a>\n",
    "## Step 2: Check for Duplicates\n",
    "<ul>\n",
    "<li><a href=\"#load\">Step 0: Load the Data</a></li>\n",
    "<li><a href=\"#nan\">Step 1: Check for NaNs</a></li>\n",
    "<li><a href=\"#duplicate\"><b>Step 2: Check for Duplicates</b></a></li>\n",
    "<li><a href=\"#short\">Step 3: Check short Titles</a></li>\n",
    "<li><a href=\"#preprocess\">Step 4: Text Preprocessing</a></li>\n",
    "<li><a href=\"#save\">Step 5: Save The Cleaned DataFrame</a></li>\n",
    "<li><a href=\"#end\">End of Notebook</a></li>  \n",
    "</ul>"
   ]
  },
  {
   "cell_type": "code",
   "execution_count": 17,
   "id": "1f0f581d",
   "metadata": {},
   "outputs": [
    {
     "data": {
      "text/plain": [
       "20"
      ]
     },
     "execution_count": 17,
     "metadata": {},
     "output_type": "execute_result"
    }
   ],
   "source": [
    "df.duplicated().sum()"
   ]
  },
  {
   "cell_type": "code",
   "execution_count": 18,
   "id": "1bda28ae",
   "metadata": {},
   "outputs": [
    {
     "data": {
      "text/plain": [
       "0"
      ]
     },
     "execution_count": 18,
     "metadata": {},
     "output_type": "execute_result"
    }
   ],
   "source": [
    "# drop duplicates in body, title and category\n",
    "df.drop_duplicates(inplace=True)\n",
    "df.duplicated().sum()"
   ]
  },
  {
   "cell_type": "markdown",
   "id": "cd880f3f",
   "metadata": {},
   "source": [
    "### check for body duplicates"
   ]
  },
  {
   "cell_type": "code",
   "execution_count": 19,
   "id": "3ed92c79",
   "metadata": {},
   "outputs": [
    {
     "data": {
      "text/plain": [
       "82"
      ]
     },
     "execution_count": 19,
     "metadata": {},
     "output_type": "execute_result"
    }
   ],
   "source": [
    "df.body.duplicated().sum()"
   ]
  },
  {
   "cell_type": "code",
   "execution_count": 20,
   "id": "2a75a701",
   "metadata": {},
   "outputs": [],
   "source": [
    "missing1 = \"Sorry, that page doesn’t exist!\\n\\nYou can search Twitter using the search box below or return to the homepage.\"\n",
    "missing2 = \"Ooops... Error 404\\n\\nSorry, but the page you are looking for doesn't exist.\\n\\nYou can go to the HOMEPAGE\"\n",
    "df['body'].replace([missing1, missing2], 'page doesn’t exist!', regex=True, inplace=True)"
   ]
  },
  {
   "cell_type": "code",
   "execution_count": 21,
   "id": "200b3746",
   "metadata": {},
   "outputs": [
    {
     "data": {
      "text/html": [
       "<div>\n",
       "<style scoped>\n",
       "    .dataframe tbody tr th:only-of-type {\n",
       "        vertical-align: middle;\n",
       "    }\n",
       "\n",
       "    .dataframe tbody tr th {\n",
       "        vertical-align: top;\n",
       "    }\n",
       "\n",
       "    .dataframe thead th {\n",
       "        text-align: right;\n",
       "    }\n",
       "</style>\n",
       "<table border=\"1\" class=\"dataframe\">\n",
       "  <thead>\n",
       "    <tr style=\"text-align: right;\">\n",
       "      <th></th>\n",
       "      <th>body</th>\n",
       "      <th>title</th>\n",
       "      <th>category</th>\n",
       "    </tr>\n",
       "  </thead>\n",
       "  <tbody>\n",
       "    <tr>\n",
       "      <th>2325</th>\n",
       "      <td>15 engineers.\\n\\nThat’s the size things start ...</td>\n",
       "      <td>Making Engineering Team Communication Clearer,...</td>\n",
       "      <td>Startups &amp; Business</td>\n",
       "    </tr>\n",
       "    <tr>\n",
       "      <th>2094</th>\n",
       "      <td>15 engineers.\\n\\nThat’s the size things start ...</td>\n",
       "      <td>Making Engineering Team Communication Clearer,...</td>\n",
       "      <td>Engineering</td>\n",
       "    </tr>\n",
       "    <tr>\n",
       "      <th>964</th>\n",
       "      <td>Awesome - Most Cited Deep Learning Papers\\n\\nA...</td>\n",
       "      <td>awesome-deep-learning-papers/README.md at mast...</td>\n",
       "      <td>Engineering</td>\n",
       "    </tr>\n",
       "    <tr>\n",
       "      <th>1001</th>\n",
       "      <td>Awesome - Most Cited Deep Learning Papers\\n\\nA...</td>\n",
       "      <td>GitHub - terryum/awesome-deep-learning-papers:...</td>\n",
       "      <td>Engineering</td>\n",
       "    </tr>\n",
       "    <tr>\n",
       "      <th>2405</th>\n",
       "      <td>By any measure, Instagram’s major milestones a...</td>\n",
       "      <td>Instagram Co-founder Mike Krieger on engineeri...</td>\n",
       "      <td>Startups &amp; Business</td>\n",
       "    </tr>\n",
       "    <tr>\n",
       "      <th>2422</th>\n",
       "      <td>By any measure, Instagram’s major milestones a...</td>\n",
       "      <td>How Instagram Co-founder Mike Krieger Took Its...</td>\n",
       "      <td>Startups &amp; Business</td>\n",
       "    </tr>\n",
       "    <tr>\n",
       "      <th>1589</th>\n",
       "      <td>David Loftesness and Alexander Grosse know a t...</td>\n",
       "      <td>Fighting Factions: How Startups Can Scale With...</td>\n",
       "      <td>Startups &amp; Business</td>\n",
       "    </tr>\n",
       "    <tr>\n",
       "      <th>1575</th>\n",
       "      <td>David Loftesness and Alexander Grosse know a t...</td>\n",
       "      <td>Fighting Factions: How Startups Can Scale With...</td>\n",
       "      <td>Startups &amp; Business</td>\n",
       "    </tr>\n",
       "    <tr>\n",
       "      <th>572</th>\n",
       "      <td>Developing as a Product Manager\\r\\n\\r\\nBY JAME...</td>\n",
       "      <td>5 Paths To Your First Product Manager Role</td>\n",
       "      <td>Product &amp; Design</td>\n",
       "    </tr>\n",
       "    <tr>\n",
       "      <th>959</th>\n",
       "      <td>Developing as a Product Manager\\r\\n\\r\\nBY JAME...</td>\n",
       "      <td>Developing as a Product Manager</td>\n",
       "      <td>Product &amp; Design</td>\n",
       "    </tr>\n",
       "    <tr>\n",
       "      <th>2272</th>\n",
       "      <td>Eventbrite. Airbnb. Vanessa Hope Schneider has...</td>\n",
       "      <td>‘Pitch the Immeasurable' and Other Leadership ...</td>\n",
       "      <td>Startups &amp; Business</td>\n",
       "    </tr>\n",
       "    <tr>\n",
       "      <th>2317</th>\n",
       "      <td>Eventbrite. Airbnb. Vanessa Hope Schneider has...</td>\n",
       "      <td>‘Pitch the Immeasurable’ and Other Leadership ...</td>\n",
       "      <td>Startups &amp; Business</td>\n",
       "    </tr>\n",
       "    <tr>\n",
       "      <th>1588</th>\n",
       "      <td>Everyone is a designer. Get over it.\\n\\nRecent...</td>\n",
       "      <td>Everyone is a designer. Get over it.</td>\n",
       "      <td>Startups &amp; Business</td>\n",
       "    </tr>\n",
       "    <tr>\n",
       "      <th>1624</th>\n",
       "      <td>Everyone is a designer. Get over it.\\n\\nRecent...</td>\n",
       "      <td>Everyone is a designer. Get over it. – GV Library</td>\n",
       "      <td>Product &amp; Design</td>\n",
       "    </tr>\n",
       "    <tr>\n",
       "      <th>2457</th>\n",
       "      <td>Generally speaking, we decide what to cover on...</td>\n",
       "      <td>Run Better Meetings with This Expert-Level Advice</td>\n",
       "      <td>Startups &amp; Business</td>\n",
       "    </tr>\n",
       "    <tr>\n",
       "      <th>2450</th>\n",
       "      <td>Generally speaking, we decide what to cover on...</td>\n",
       "      <td>First Round Review's 6 Must Reads to Run Fast,...</td>\n",
       "      <td>Startups &amp; Business</td>\n",
       "    </tr>\n",
       "    <tr>\n",
       "      <th>1374</th>\n",
       "      <td>Great businesses don’t have to be big — and bi...</td>\n",
       "      <td>Before You Create Your Product, Create Your Va...</td>\n",
       "      <td>Product &amp; Design</td>\n",
       "    </tr>\n",
       "    <tr>\n",
       "      <th>11</th>\n",
       "      <td>Great businesses don’t have to be big — and bi...</td>\n",
       "      <td>Why Value Capture is the Most Important Busine...</td>\n",
       "      <td>Startups &amp; Business</td>\n",
       "    </tr>\n",
       "    <tr>\n",
       "      <th>310</th>\n",
       "      <td>Hear directly from the people who know it best...</td>\n",
       "      <td>The Framing Effect: Simple Tweaks to Stop Losi...</td>\n",
       "      <td>Startups &amp; Business</td>\n",
       "    </tr>\n",
       "    <tr>\n",
       "      <th>741</th>\n",
       "      <td>Hear directly from the people who know it best...</td>\n",
       "      <td>How to build the next Trello and sell it for $...</td>\n",
       "      <td>Startups &amp; Business</td>\n",
       "    </tr>\n",
       "    <tr>\n",
       "      <th>665</th>\n",
       "      <td>If you ever connected to the Internet before t...</td>\n",
       "      <td>CTCSS fingerprinting: a method for transmitter...</td>\n",
       "      <td>Engineering</td>\n",
       "    </tr>\n",
       "    <tr>\n",
       "      <th>1018</th>\n",
       "      <td>If you ever connected to the Internet before t...</td>\n",
       "      <td>Barcode recovery using a priori constraints</td>\n",
       "      <td>Engineering</td>\n",
       "    </tr>\n",
       "    <tr>\n",
       "      <th>1634</th>\n",
       "      <td>Kabam's story is pretty well known. In a Cinde...</td>\n",
       "      <td>Pivot Survival Tactics from Kabam's 3 Near-Dea...</td>\n",
       "      <td>Startups &amp; Business</td>\n",
       "    </tr>\n",
       "    <tr>\n",
       "      <th>1647</th>\n",
       "      <td>Kabam's story is pretty well known. In a Cinde...</td>\n",
       "      <td>Pivot Survival Tactics from Kabam's 3 Near-Dea...</td>\n",
       "      <td>Startups &amp; Business</td>\n",
       "    </tr>\n",
       "    <tr>\n",
       "      <th>1104</th>\n",
       "      <td>Leading designers and product thinkers agree t...</td>\n",
       "      <td>5 key lessons for successful user onboarding</td>\n",
       "      <td>Product &amp; Design</td>\n",
       "    </tr>\n",
       "    <tr>\n",
       "      <th>2032</th>\n",
       "      <td>Leading designers and product thinkers agree t...</td>\n",
       "      <td>Why Onboarding is the Most Crucial Part of You...</td>\n",
       "      <td>Product &amp; Design</td>\n",
       "    </tr>\n",
       "    <tr>\n",
       "      <th>55</th>\n",
       "      <td>Like many trends in software there’s no one cl...</td>\n",
       "      <td>Future of Serverless Architectures</td>\n",
       "      <td>Engineering</td>\n",
       "    </tr>\n",
       "    <tr>\n",
       "      <th>85</th>\n",
       "      <td>Like many trends in software there’s no one cl...</td>\n",
       "      <td>Origin of the term “serverless”</td>\n",
       "      <td>Engineering</td>\n",
       "    </tr>\n",
       "    <tr>\n",
       "      <th>905</th>\n",
       "      <td>Like many trends in software there’s no one cl...</td>\n",
       "      <td>Serverless Architectures</td>\n",
       "      <td>Engineering</td>\n",
       "    </tr>\n",
       "    <tr>\n",
       "      <th>24</th>\n",
       "      <td>Like many trends in software there’s no one cl...</td>\n",
       "      <td>What isn't Serverless</td>\n",
       "      <td>Engineering</td>\n",
       "    </tr>\n",
       "    <tr>\n",
       "      <th>382</th>\n",
       "      <td>Like many trends in software there’s no one cl...</td>\n",
       "      <td>Benefits of Serverless Architectures</td>\n",
       "      <td>Engineering</td>\n",
       "    </tr>\n",
       "    <tr>\n",
       "      <th>381</th>\n",
       "      <td>Like many trends in software there’s no one cl...</td>\n",
       "      <td>Drawbacks of Serverless Architectures</td>\n",
       "      <td>Engineering</td>\n",
       "    </tr>\n",
       "    <tr>\n",
       "      <th>2319</th>\n",
       "      <td>Many business leaders hesitate when you ask th...</td>\n",
       "      <td>Track and Facilitate Your Engineers’ Flow Stat...</td>\n",
       "      <td>Startups &amp; Business</td>\n",
       "    </tr>\n",
       "    <tr>\n",
       "      <th>2189</th>\n",
       "      <td>Many business leaders hesitate when you ask th...</td>\n",
       "      <td>Track and Facilitate Your Engineers' Flow Stat...</td>\n",
       "      <td>Startups &amp; Business</td>\n",
       "    </tr>\n",
       "    <tr>\n",
       "      <th>26</th>\n",
       "      <td>Modern web development has many challenges, an...</td>\n",
       "      <td>Basics of Web Application Security: Hash and S...</td>\n",
       "      <td>Engineering</td>\n",
       "    </tr>\n",
       "    <tr>\n",
       "      <th>23</th>\n",
       "      <td>Modern web development has many challenges, an...</td>\n",
       "      <td>Basics of Web Application Security: Authentica...</td>\n",
       "      <td>Engineering</td>\n",
       "    </tr>\n",
       "    <tr>\n",
       "      <th>370</th>\n",
       "      <td>Modern web development has many challenges, an...</td>\n",
       "      <td>Basics of Web Application Security: Protect Us...</td>\n",
       "      <td>Engineering</td>\n",
       "    </tr>\n",
       "    <tr>\n",
       "      <th>2474</th>\n",
       "      <td>Netflix is a place where people win. They exce...</td>\n",
       "      <td>Humans Hate Being Spun: How to Practice Radica...</td>\n",
       "      <td>Startups &amp; Business</td>\n",
       "    </tr>\n",
       "    <tr>\n",
       "      <th>2480</th>\n",
       "      <td>Netflix is a place where people win. They exce...</td>\n",
       "      <td>Humans Hate Being Spun: How to Practice Radica...</td>\n",
       "      <td>Startups &amp; Business</td>\n",
       "    </tr>\n",
       "    <tr>\n",
       "      <th>1137</th>\n",
       "      <td>Position, Position, Position!\\n\\nThe mantra in...</td>\n",
       "      <td>Position, Position, Position!</td>\n",
       "      <td>Product &amp; Design</td>\n",
       "    </tr>\n",
       "    <tr>\n",
       "      <th>1520</th>\n",
       "      <td>Position, Position, Position!\\n\\nThe mantra in...</td>\n",
       "      <td>Position, Position, Position! – Signal v. Noise</td>\n",
       "      <td>Product &amp; Design</td>\n",
       "    </tr>\n",
       "    <tr>\n",
       "      <th>1766</th>\n",
       "      <td>Thanks for reading!\\n\\nIf you enjoyed it, how ...</td>\n",
       "      <td>How United Onboards New Users</td>\n",
       "      <td>Product &amp; Design</td>\n",
       "    </tr>\n",
       "    <tr>\n",
       "      <th>2366</th>\n",
       "      <td>Thanks for reading!\\n\\nIf you enjoyed it, how ...</td>\n",
       "      <td>How Duolingo Onboards New Users</td>\n",
       "      <td>Product &amp; Design</td>\n",
       "    </tr>\n",
       "    <tr>\n",
       "      <th>165</th>\n",
       "      <td>The Internet Economy\\n\\nWe are living in an er...</td>\n",
       "      <td>The Internet Economy</td>\n",
       "      <td>Startups &amp; Business</td>\n",
       "    </tr>\n",
       "    <tr>\n",
       "      <th>169</th>\n",
       "      <td>The Internet Economy\\n\\nWe are living in an er...</td>\n",
       "      <td>Internet Economy</td>\n",
       "      <td>Startups &amp; Business</td>\n",
       "    </tr>\n",
       "    <tr>\n",
       "      <th>2110</th>\n",
       "      <td>There are a handful of oft-cited, number-based...</td>\n",
       "      <td>Our 6 Must Reads if You're at a Startup With 3...</td>\n",
       "      <td>Startups &amp; Business</td>\n",
       "    </tr>\n",
       "    <tr>\n",
       "      <th>2324</th>\n",
       "      <td>There are a handful of oft-cited, number-based...</td>\n",
       "      <td>Our 6 Must Reads if You’re at a Startup With 3...</td>\n",
       "      <td>Startups &amp; Business</td>\n",
       "    </tr>\n",
       "    <tr>\n",
       "      <th>1960</th>\n",
       "      <td>This advice for working on the right projects ...</td>\n",
       "      <td>Don't Play with Dead Snakes - Kill Projects Be...</td>\n",
       "      <td>Startups &amp; Business</td>\n",
       "    </tr>\n",
       "    <tr>\n",
       "      <th>1930</th>\n",
       "      <td>This advice for working on the right projects ...</td>\n",
       "      <td>Don't Play with Dead Snakes — Kill Projects Be...</td>\n",
       "      <td>Startups &amp; Business</td>\n",
       "    </tr>\n",
       "    <tr>\n",
       "      <th>1443</th>\n",
       "      <td>Tracking the Money — Scaling Financial Reporti...</td>\n",
       "      <td>Tracking the Money - Scaling Financial Reporti...</td>\n",
       "      <td>Engineering</td>\n",
       "    </tr>\n",
       "    <tr>\n",
       "      <th>1337</th>\n",
       "      <td>Tracking the Money — Scaling Financial Reporti...</td>\n",
       "      <td>Tracking the Money - Scaling Financial Reporti...</td>\n",
       "      <td>Engineering</td>\n",
       "    </tr>\n",
       "    <tr>\n",
       "      <th>1517</th>\n",
       "      <td>When Caitlin Kalinowski joined Oculus as the h...</td>\n",
       "      <td>Six Steps to Superior Product Prototyping: Les...</td>\n",
       "      <td>Product &amp; Design</td>\n",
       "    </tr>\n",
       "    <tr>\n",
       "      <th>980</th>\n",
       "      <td>When Caitlin Kalinowski joined Oculus as the h...</td>\n",
       "      <td>Six Steps to Superior Product Prototyping: Les...</td>\n",
       "      <td>Startups &amp; Business</td>\n",
       "    </tr>\n",
       "    <tr>\n",
       "      <th>2420</th>\n",
       "      <td>When we asked Fidji Simo what she wanted to sh...</td>\n",
       "      <td>How Facebook’s VP of Product Finds Focus and C...</td>\n",
       "      <td>Startups &amp; Business</td>\n",
       "    </tr>\n",
       "    <tr>\n",
       "      <th>2437</th>\n",
       "      <td>When we asked Fidji Simo what she wanted to sh...</td>\n",
       "      <td>Facebook's VP of Product on Mastering Focus an...</td>\n",
       "      <td>Startups &amp; Business</td>\n",
       "    </tr>\n",
       "    <tr>\n",
       "      <th>1438</th>\n",
       "      <td>Written by Weronika Łabaj on April 07, 2016 · ...</td>\n",
       "      <td>Five Lessons from Scaling Pinterest</td>\n",
       "      <td>Startups &amp; Business</td>\n",
       "    </tr>\n",
       "    <tr>\n",
       "      <th>114</th>\n",
       "      <td>Written by Weronika Łabaj on April 07, 2016 · ...</td>\n",
       "      <td>Confession: I Don't Think Uber is Actually a G...</td>\n",
       "      <td>Startups &amp; Business</td>\n",
       "    </tr>\n",
       "    <tr>\n",
       "      <th>1790</th>\n",
       "      <td>“We were able to email 10 of our customer advi...</td>\n",
       "      <td>Start Up on the Right Foot — Build a Customer ...</td>\n",
       "      <td>Startups &amp; Business</td>\n",
       "    </tr>\n",
       "    <tr>\n",
       "      <th>1812</th>\n",
       "      <td>“We were able to email 10 of our customer advi...</td>\n",
       "      <td>Start Up on the Right Foot - Build a Customer ...</td>\n",
       "      <td>Product &amp; Design</td>\n",
       "    </tr>\n",
       "  </tbody>\n",
       "</table>\n",
       "</div>"
      ],
      "text/plain": [
       "                                                   body  \\\n",
       "2325  15 engineers.\\n\\nThat’s the size things start ...   \n",
       "2094  15 engineers.\\n\\nThat’s the size things start ...   \n",
       "964   Awesome - Most Cited Deep Learning Papers\\n\\nA...   \n",
       "1001  Awesome - Most Cited Deep Learning Papers\\n\\nA...   \n",
       "2405  By any measure, Instagram’s major milestones a...   \n",
       "2422  By any measure, Instagram’s major milestones a...   \n",
       "1589  David Loftesness and Alexander Grosse know a t...   \n",
       "1575  David Loftesness and Alexander Grosse know a t...   \n",
       "572   Developing as a Product Manager\\r\\n\\r\\nBY JAME...   \n",
       "959   Developing as a Product Manager\\r\\n\\r\\nBY JAME...   \n",
       "2272  Eventbrite. Airbnb. Vanessa Hope Schneider has...   \n",
       "2317  Eventbrite. Airbnb. Vanessa Hope Schneider has...   \n",
       "1588  Everyone is a designer. Get over it.\\n\\nRecent...   \n",
       "1624  Everyone is a designer. Get over it.\\n\\nRecent...   \n",
       "2457  Generally speaking, we decide what to cover on...   \n",
       "2450  Generally speaking, we decide what to cover on...   \n",
       "1374  Great businesses don’t have to be big — and bi...   \n",
       "11    Great businesses don’t have to be big — and bi...   \n",
       "310   Hear directly from the people who know it best...   \n",
       "741   Hear directly from the people who know it best...   \n",
       "665   If you ever connected to the Internet before t...   \n",
       "1018  If you ever connected to the Internet before t...   \n",
       "1634  Kabam's story is pretty well known. In a Cinde...   \n",
       "1647  Kabam's story is pretty well known. In a Cinde...   \n",
       "1104  Leading designers and product thinkers agree t...   \n",
       "2032  Leading designers and product thinkers agree t...   \n",
       "55    Like many trends in software there’s no one cl...   \n",
       "85    Like many trends in software there’s no one cl...   \n",
       "905   Like many trends in software there’s no one cl...   \n",
       "24    Like many trends in software there’s no one cl...   \n",
       "382   Like many trends in software there’s no one cl...   \n",
       "381   Like many trends in software there’s no one cl...   \n",
       "2319  Many business leaders hesitate when you ask th...   \n",
       "2189  Many business leaders hesitate when you ask th...   \n",
       "26    Modern web development has many challenges, an...   \n",
       "23    Modern web development has many challenges, an...   \n",
       "370   Modern web development has many challenges, an...   \n",
       "2474  Netflix is a place where people win. They exce...   \n",
       "2480  Netflix is a place where people win. They exce...   \n",
       "1137  Position, Position, Position!\\n\\nThe mantra in...   \n",
       "1520  Position, Position, Position!\\n\\nThe mantra in...   \n",
       "1766  Thanks for reading!\\n\\nIf you enjoyed it, how ...   \n",
       "2366  Thanks for reading!\\n\\nIf you enjoyed it, how ...   \n",
       "165   The Internet Economy\\n\\nWe are living in an er...   \n",
       "169   The Internet Economy\\n\\nWe are living in an er...   \n",
       "2110  There are a handful of oft-cited, number-based...   \n",
       "2324  There are a handful of oft-cited, number-based...   \n",
       "1960  This advice for working on the right projects ...   \n",
       "1930  This advice for working on the right projects ...   \n",
       "1443  Tracking the Money — Scaling Financial Reporti...   \n",
       "1337  Tracking the Money — Scaling Financial Reporti...   \n",
       "1517  When Caitlin Kalinowski joined Oculus as the h...   \n",
       "980   When Caitlin Kalinowski joined Oculus as the h...   \n",
       "2420  When we asked Fidji Simo what she wanted to sh...   \n",
       "2437  When we asked Fidji Simo what she wanted to sh...   \n",
       "1438  Written by Weronika Łabaj on April 07, 2016 · ...   \n",
       "114   Written by Weronika Łabaj on April 07, 2016 · ...   \n",
       "1790  “We were able to email 10 of our customer advi...   \n",
       "1812  “We were able to email 10 of our customer advi...   \n",
       "\n",
       "                                                  title             category  \n",
       "2325  Making Engineering Team Communication Clearer,...  Startups & Business  \n",
       "2094  Making Engineering Team Communication Clearer,...          Engineering  \n",
       "964   awesome-deep-learning-papers/README.md at mast...          Engineering  \n",
       "1001  GitHub - terryum/awesome-deep-learning-papers:...          Engineering  \n",
       "2405  Instagram Co-founder Mike Krieger on engineeri...  Startups & Business  \n",
       "2422  How Instagram Co-founder Mike Krieger Took Its...  Startups & Business  \n",
       "1589  Fighting Factions: How Startups Can Scale With...  Startups & Business  \n",
       "1575  Fighting Factions: How Startups Can Scale With...  Startups & Business  \n",
       "572          5 Paths To Your First Product Manager Role     Product & Design  \n",
       "959                     Developing as a Product Manager     Product & Design  \n",
       "2272  ‘Pitch the Immeasurable' and Other Leadership ...  Startups & Business  \n",
       "2317  ‘Pitch the Immeasurable’ and Other Leadership ...  Startups & Business  \n",
       "1588               Everyone is a designer. Get over it.  Startups & Business  \n",
       "1624  Everyone is a designer. Get over it. – GV Library     Product & Design  \n",
       "2457  Run Better Meetings with This Expert-Level Advice  Startups & Business  \n",
       "2450  First Round Review's 6 Must Reads to Run Fast,...  Startups & Business  \n",
       "1374  Before You Create Your Product, Create Your Va...     Product & Design  \n",
       "11    Why Value Capture is the Most Important Busine...  Startups & Business  \n",
       "310   The Framing Effect: Simple Tweaks to Stop Losi...  Startups & Business  \n",
       "741   How to build the next Trello and sell it for $...  Startups & Business  \n",
       "665   CTCSS fingerprinting: a method for transmitter...          Engineering  \n",
       "1018        Barcode recovery using a priori constraints          Engineering  \n",
       "1634  Pivot Survival Tactics from Kabam's 3 Near-Dea...  Startups & Business  \n",
       "1647  Pivot Survival Tactics from Kabam's 3 Near-Dea...  Startups & Business  \n",
       "1104       5 key lessons for successful user onboarding     Product & Design  \n",
       "2032  Why Onboarding is the Most Crucial Part of You...     Product & Design  \n",
       "55                   Future of Serverless Architectures          Engineering  \n",
       "85                      Origin of the term “serverless”          Engineering  \n",
       "905                            Serverless Architectures          Engineering  \n",
       "24                                What isn't Serverless          Engineering  \n",
       "382                Benefits of Serverless Architectures          Engineering  \n",
       "381               Drawbacks of Serverless Architectures          Engineering  \n",
       "2319  Track and Facilitate Your Engineers’ Flow Stat...  Startups & Business  \n",
       "2189  Track and Facilitate Your Engineers' Flow Stat...  Startups & Business  \n",
       "26    Basics of Web Application Security: Hash and S...          Engineering  \n",
       "23    Basics of Web Application Security: Authentica...          Engineering  \n",
       "370   Basics of Web Application Security: Protect Us...          Engineering  \n",
       "2474  Humans Hate Being Spun: How to Practice Radica...  Startups & Business  \n",
       "2480  Humans Hate Being Spun: How to Practice Radica...  Startups & Business  \n",
       "1137                      Position, Position, Position!     Product & Design  \n",
       "1520    Position, Position, Position! – Signal v. Noise     Product & Design  \n",
       "1766                      How United Onboards New Users     Product & Design  \n",
       "2366                    How Duolingo Onboards New Users     Product & Design  \n",
       "165                                The Internet Economy  Startups & Business  \n",
       "169                                    Internet Economy  Startups & Business  \n",
       "2110  Our 6 Must Reads if You're at a Startup With 3...  Startups & Business  \n",
       "2324  Our 6 Must Reads if You’re at a Startup With 3...  Startups & Business  \n",
       "1960  Don't Play with Dead Snakes - Kill Projects Be...  Startups & Business  \n",
       "1930  Don't Play with Dead Snakes — Kill Projects Be...  Startups & Business  \n",
       "1443  Tracking the Money - Scaling Financial Reporti...          Engineering  \n",
       "1337  Tracking the Money - Scaling Financial Reporti...          Engineering  \n",
       "1517  Six Steps to Superior Product Prototyping: Les...     Product & Design  \n",
       "980   Six Steps to Superior Product Prototyping: Les...  Startups & Business  \n",
       "2420  How Facebook’s VP of Product Finds Focus and C...  Startups & Business  \n",
       "2437  Facebook's VP of Product on Mastering Focus an...  Startups & Business  \n",
       "1438                Five Lessons from Scaling Pinterest  Startups & Business  \n",
       "114   Confession: I Don't Think Uber is Actually a G...  Startups & Business  \n",
       "1790  Start Up on the Right Foot — Build a Customer ...  Startups & Business  \n",
       "1812  Start Up on the Right Foot - Build a Customer ...     Product & Design  "
      ]
     },
     "execution_count": 21,
     "metadata": {},
     "output_type": "execute_result"
    }
   ],
   "source": [
    "repeated_bodies = df.body.value_counts()[df.body.value_counts() > 1].index\n",
    "df[(df.body.isin(repeated_bodies)) & ~(df.body.isin(['missing', 'page doesn’t exist!']))].sort_values(by='body')"
   ]
  },
  {
   "cell_type": "markdown",
   "id": "6da3e73a",
   "metadata": {},
   "source": [
    "<br>"
   ]
  },
  {
   "cell_type": "markdown",
   "id": "811ce27d",
   "metadata": {},
   "source": [
    "**Drop all body duplicates (except for missing or doesn't exist values** <br>\n",
    "<font color='red'> If we did this, we are going to lose some useful information (titles variation)</font>"
   ]
  },
  {
   "cell_type": "code",
   "execution_count": 22,
   "id": "cd4d89dc",
   "metadata": {},
   "outputs": [],
   "source": [
    "# # df.drop_duplicates(subset='body')\n",
    "# df = df[~df['body'].duplicated() | df['body'].isin(['missing', 'page doesn’t exist!'])].copy()"
   ]
  },
  {
   "cell_type": "markdown",
   "id": "983974dd",
   "metadata": {},
   "source": [
    "<br>"
   ]
  },
  {
   "cell_type": "markdown",
   "id": "0b8f10f2",
   "metadata": {},
   "source": [
    "### check for title duplicates"
   ]
  },
  {
   "cell_type": "code",
   "execution_count": 23,
   "id": "2908ce68",
   "metadata": {},
   "outputs": [
    {
     "data": {
      "text/plain": [
       "7"
      ]
     },
     "execution_count": 23,
     "metadata": {},
     "output_type": "execute_result"
    }
   ],
   "source": [
    "df.title.duplicated().sum()"
   ]
  },
  {
   "cell_type": "code",
   "execution_count": 24,
   "id": "e86e0da4",
   "metadata": {},
   "outputs": [
    {
     "data": {
      "text/plain": [
       "Index(['Great help content starts with great questions',\n",
       "       'Omnisearch Index Formats',\n",
       "       'Why Trello Failed to Build a $1 Billion+ Business',\n",
       "       'The Dirty Dozen: 12 KPIs You Must Know Before Pitching Your Startup',\n",
       "       'Simplify Service Dependencies with Nodes', 'Optimizing Twitter Heron',\n",
       "       'Learn More'],\n",
       "      dtype='object')"
      ]
     },
     "execution_count": 24,
     "metadata": {},
     "output_type": "execute_result"
    }
   ],
   "source": [
    "repeated_titles = df.title.value_counts()[df.title.value_counts() > 1].index\n",
    "repeated_titles"
   ]
  },
  {
   "cell_type": "code",
   "execution_count": 25,
   "id": "b15e4b82",
   "metadata": {},
   "outputs": [
    {
     "data": {
      "text/html": [
       "<div>\n",
       "<style scoped>\n",
       "    .dataframe tbody tr th:only-of-type {\n",
       "        vertical-align: middle;\n",
       "    }\n",
       "\n",
       "    .dataframe tbody tr th {\n",
       "        vertical-align: top;\n",
       "    }\n",
       "\n",
       "    .dataframe thead th {\n",
       "        text-align: right;\n",
       "    }\n",
       "</style>\n",
       "<table border=\"1\" class=\"dataframe\">\n",
       "  <thead>\n",
       "    <tr style=\"text-align: right;\">\n",
       "      <th></th>\n",
       "      <th>body</th>\n",
       "      <th>title</th>\n",
       "      <th>category</th>\n",
       "    </tr>\n",
       "  </thead>\n",
       "  <tbody>\n",
       "    <tr>\n",
       "      <th>251</th>\n",
       "      <td>I spent over a decade as a product manager at ...</td>\n",
       "      <td>Great help content starts with great questions</td>\n",
       "      <td>Startups &amp; Business</td>\n",
       "    </tr>\n",
       "    <tr>\n",
       "      <th>829</th>\n",
       "      <td>So if the questions you ask your team, yoursel...</td>\n",
       "      <td>Great help content starts with great questions</td>\n",
       "      <td>Product &amp; Design</td>\n",
       "    </tr>\n",
       "    <tr>\n",
       "      <th>1215</th>\n",
       "      <td>What?\\n\\nAs you may know, the product owner or...</td>\n",
       "      <td>Learn More</td>\n",
       "      <td>Product &amp; Design</td>\n",
       "    </tr>\n",
       "    <tr>\n",
       "      <th>749</th>\n",
       "      <td>The Strategy Canvas\\n\\nThe Strategy Canvas was...</td>\n",
       "      <td>Learn More</td>\n",
       "      <td>Product &amp; Design</td>\n",
       "    </tr>\n",
       "    <tr>\n",
       "      <th>444</th>\n",
       "      <td>Infrastructure Omnisearch Index Formats By Yan...</td>\n",
       "      <td>Omnisearch Index Formats</td>\n",
       "      <td>Engineering</td>\n",
       "    </tr>\n",
       "    <tr>\n",
       "      <th>1579</th>\n",
       "      <td>page doesn’t exist!</td>\n",
       "      <td>Omnisearch Index Formats</td>\n",
       "      <td>Engineering</td>\n",
       "    </tr>\n",
       "    <tr>\n",
       "      <th>1540</th>\n",
       "      <td>page doesn’t exist!</td>\n",
       "      <td>Optimizing Twitter Heron</td>\n",
       "      <td>Engineering</td>\n",
       "    </tr>\n",
       "    <tr>\n",
       "      <th>1539</th>\n",
       "      <td>Open source Optimizing Twitter Heron By Karthi...</td>\n",
       "      <td>Optimizing Twitter Heron</td>\n",
       "      <td>Engineering</td>\n",
       "    </tr>\n",
       "    <tr>\n",
       "      <th>1541</th>\n",
       "      <td>page doesn’t exist!</td>\n",
       "      <td>Simplify Service Dependencies with Nodes</td>\n",
       "      <td>Engineering</td>\n",
       "    </tr>\n",
       "    <tr>\n",
       "      <th>445</th>\n",
       "      <td>Open source Simplify Service Dependencies with...</td>\n",
       "      <td>Simplify Service Dependencies with Nodes</td>\n",
       "      <td>Engineering</td>\n",
       "    </tr>\n",
       "    <tr>\n",
       "      <th>1058</th>\n",
       "      <td>missing</td>\n",
       "      <td>The Dirty Dozen: 12 KPIs You Must Know Before ...</td>\n",
       "      <td>Startups &amp; Business</td>\n",
       "    </tr>\n",
       "    <tr>\n",
       "      <th>549</th>\n",
       "      <td>The Dirty Dozen: 12 KPIs You Must Know Before ...</td>\n",
       "      <td>The Dirty Dozen: 12 KPIs You Must Know Before ...</td>\n",
       "      <td>Startups &amp; Business</td>\n",
       "    </tr>\n",
       "    <tr>\n",
       "      <th>1206</th>\n",
       "      <td>In 2011, Joel Spolsky launched his company Fog...</td>\n",
       "      <td>Why Trello Failed to Build a $1 Billion+ Business</td>\n",
       "      <td>Startups &amp; Business</td>\n",
       "    </tr>\n",
       "    <tr>\n",
       "      <th>2444</th>\n",
       "      <td>Why Trello Failed to Build a $1 Billion+ Busin...</td>\n",
       "      <td>Why Trello Failed to Build a $1 Billion+ Business</td>\n",
       "      <td>Startups &amp; Business</td>\n",
       "    </tr>\n",
       "  </tbody>\n",
       "</table>\n",
       "</div>"
      ],
      "text/plain": [
       "                                                   body  \\\n",
       "251   I spent over a decade as a product manager at ...   \n",
       "829   So if the questions you ask your team, yoursel...   \n",
       "1215  What?\\n\\nAs you may know, the product owner or...   \n",
       "749   The Strategy Canvas\\n\\nThe Strategy Canvas was...   \n",
       "444   Infrastructure Omnisearch Index Formats By Yan...   \n",
       "1579                                page doesn’t exist!   \n",
       "1540                                page doesn’t exist!   \n",
       "1539  Open source Optimizing Twitter Heron By Karthi...   \n",
       "1541                                page doesn’t exist!   \n",
       "445   Open source Simplify Service Dependencies with...   \n",
       "1058                                            missing   \n",
       "549   The Dirty Dozen: 12 KPIs You Must Know Before ...   \n",
       "1206  In 2011, Joel Spolsky launched his company Fog...   \n",
       "2444  Why Trello Failed to Build a $1 Billion+ Busin...   \n",
       "\n",
       "                                                  title             category  \n",
       "251      Great help content starts with great questions  Startups & Business  \n",
       "829      Great help content starts with great questions     Product & Design  \n",
       "1215                                         Learn More     Product & Design  \n",
       "749                                          Learn More     Product & Design  \n",
       "444                            Omnisearch Index Formats          Engineering  \n",
       "1579                           Omnisearch Index Formats          Engineering  \n",
       "1540                           Optimizing Twitter Heron          Engineering  \n",
       "1539                           Optimizing Twitter Heron          Engineering  \n",
       "1541           Simplify Service Dependencies with Nodes          Engineering  \n",
       "445            Simplify Service Dependencies with Nodes          Engineering  \n",
       "1058  The Dirty Dozen: 12 KPIs You Must Know Before ...  Startups & Business  \n",
       "549   The Dirty Dozen: 12 KPIs You Must Know Before ...  Startups & Business  \n",
       "1206  Why Trello Failed to Build a $1 Billion+ Business  Startups & Business  \n",
       "2444  Why Trello Failed to Build a $1 Billion+ Business  Startups & Business  "
      ]
     },
     "execution_count": 25,
     "metadata": {},
     "output_type": "execute_result"
    }
   ],
   "source": [
    "df[df.title.isin(repeated_titles)]"
   ]
  },
  {
   "cell_type": "code",
   "execution_count": 26,
   "id": "6007ccee",
   "metadata": {},
   "outputs": [
    {
     "data": {
      "text/html": [
       "<div>\n",
       "<style scoped>\n",
       "    .dataframe tbody tr th:only-of-type {\n",
       "        vertical-align: middle;\n",
       "    }\n",
       "\n",
       "    .dataframe tbody tr th {\n",
       "        vertical-align: top;\n",
       "    }\n",
       "\n",
       "    .dataframe thead th {\n",
       "        text-align: right;\n",
       "    }\n",
       "</style>\n",
       "<table border=\"1\" class=\"dataframe\">\n",
       "  <thead>\n",
       "    <tr style=\"text-align: right;\">\n",
       "      <th></th>\n",
       "      <th>body</th>\n",
       "      <th>title</th>\n",
       "      <th>category</th>\n",
       "    </tr>\n",
       "  </thead>\n",
       "  <tbody>\n",
       "    <tr>\n",
       "      <th>1854</th>\n",
       "      <td>page doesn’t exist!</td>\n",
       "      <td>5 Steps To Successful Purpose-Driven PR</td>\n",
       "      <td>Startups &amp; Business</td>\n",
       "    </tr>\n",
       "    <tr>\n",
       "      <th>1579</th>\n",
       "      <td>page doesn’t exist!</td>\n",
       "      <td>Omnisearch Index Formats</td>\n",
       "      <td>Engineering</td>\n",
       "    </tr>\n",
       "    <tr>\n",
       "      <th>1540</th>\n",
       "      <td>page doesn’t exist!</td>\n",
       "      <td>Optimizing Twitter Heron</td>\n",
       "      <td>Engineering</td>\n",
       "    </tr>\n",
       "    <tr>\n",
       "      <th>1541</th>\n",
       "      <td>page doesn’t exist!</td>\n",
       "      <td>Simplify Service Dependencies with Nodes</td>\n",
       "      <td>Engineering</td>\n",
       "    </tr>\n",
       "    <tr>\n",
       "      <th>2026</th>\n",
       "      <td>page doesn’t exist!</td>\n",
       "      <td>The Making of a Great Strategic Narrative</td>\n",
       "      <td>Product &amp; Design</td>\n",
       "    </tr>\n",
       "    <tr>\n",
       "      <th>1943</th>\n",
       "      <td>page doesn’t exist!</td>\n",
       "      <td>The Seven Habits of Tech-Savvy Teams</td>\n",
       "      <td>Startups &amp; Business</td>\n",
       "    </tr>\n",
       "  </tbody>\n",
       "</table>\n",
       "</div>"
      ],
      "text/plain": [
       "                     body                                      title  \\\n",
       "1854  page doesn’t exist!    5 Steps To Successful Purpose-Driven PR   \n",
       "1579  page doesn’t exist!                   Omnisearch Index Formats   \n",
       "1540  page doesn’t exist!                   Optimizing Twitter Heron   \n",
       "1541  page doesn’t exist!   Simplify Service Dependencies with Nodes   \n",
       "2026  page doesn’t exist!  The Making of a Great Strategic Narrative   \n",
       "1943  page doesn’t exist!       The Seven Habits of Tech-Savvy Teams   \n",
       "\n",
       "                 category  \n",
       "1854  Startups & Business  \n",
       "1579          Engineering  \n",
       "1540          Engineering  \n",
       "1541          Engineering  \n",
       "2026     Product & Design  \n",
       "1943  Startups & Business  "
      ]
     },
     "execution_count": 26,
     "metadata": {},
     "output_type": "execute_result"
    }
   ],
   "source": [
    "df[df.body.str.contains('page doesn’t exist!')]"
   ]
  },
  {
   "cell_type": "markdown",
   "id": "f5d686dd",
   "metadata": {},
   "source": [
    "<br>"
   ]
  },
  {
   "cell_type": "markdown",
   "id": "8203d01d",
   "metadata": {},
   "source": [
    "**drop rows where title is repeated and the page does not exist or missing**"
   ]
  },
  {
   "cell_type": "code",
   "execution_count": 27,
   "id": "6e499c29",
   "metadata": {},
   "outputs": [
    {
     "name": "stdout",
     "output_type": "stream",
     "text": [
      "(2457, 3)\n"
     ]
    },
    {
     "data": {
      "text/html": [
       "<div>\n",
       "<style scoped>\n",
       "    .dataframe tbody tr th:only-of-type {\n",
       "        vertical-align: middle;\n",
       "    }\n",
       "\n",
       "    .dataframe tbody tr th {\n",
       "        vertical-align: top;\n",
       "    }\n",
       "\n",
       "    .dataframe thead th {\n",
       "        text-align: right;\n",
       "    }\n",
       "</style>\n",
       "<table border=\"1\" class=\"dataframe\">\n",
       "  <thead>\n",
       "    <tr style=\"text-align: right;\">\n",
       "      <th></th>\n",
       "      <th>body</th>\n",
       "      <th>title</th>\n",
       "      <th>category</th>\n",
       "    </tr>\n",
       "  </thead>\n",
       "  <tbody>\n",
       "    <tr>\n",
       "      <th>0</th>\n",
       "      <td>The Founder Institute’s “Startup Tips and Tric...</td>\n",
       "      <td>Make Your Entrepreneurial Journey Sufficientl...</td>\n",
       "      <td>Startups &amp; Business</td>\n",
       "    </tr>\n",
       "  </tbody>\n",
       "</table>\n",
       "</div>"
      ],
      "text/plain": [
       "                                                body  \\\n",
       "0  The Founder Institute’s “Startup Tips and Tric...   \n",
       "\n",
       "                                               title             category  \n",
       "0   Make Your Entrepreneurial Journey Sufficientl...  Startups & Business  "
      ]
     },
     "execution_count": 27,
     "metadata": {},
     "output_type": "execute_result"
    }
   ],
   "source": [
    "# drop rows where title is repeated and the page does not exist or missing\n",
    "df = df[~((df.title.isin(repeated_titles)) & (df.body.isin(['page doesn’t exist!', 'missing'])))].copy()\n",
    "df.reset_index(inplace=True, drop=True)\n",
    "print(df.shape)\n",
    "df.head(1)"
   ]
  },
  {
   "cell_type": "code",
   "execution_count": 28,
   "id": "02c75783",
   "metadata": {},
   "outputs": [
    {
     "name": "stdout",
     "output_type": "stream",
     "text": [
      "<class 'pandas.core.frame.DataFrame'>\n",
      "RangeIndex: 2457 entries, 0 to 2456\n",
      "Data columns (total 3 columns):\n",
      " #   Column    Non-Null Count  Dtype \n",
      "---  ------    --------------  ----- \n",
      " 0   body      2457 non-null   object\n",
      " 1   title     2457 non-null   object\n",
      " 2   category  2457 non-null   object\n",
      "dtypes: object(3)\n",
      "memory usage: 57.7+ KB\n"
     ]
    }
   ],
   "source": [
    "df.info()"
   ]
  },
  {
   "cell_type": "code",
   "execution_count": 29,
   "id": "73f172b2",
   "metadata": {},
   "outputs": [
    {
     "data": {
      "text/plain": [
       "Index(['Great help content starts with great questions',\n",
       "       'Why Trello Failed to Build a $1 Billion+ Business', 'Learn More'],\n",
       "      dtype='object')"
      ]
     },
     "execution_count": 29,
     "metadata": {},
     "output_type": "execute_result"
    }
   ],
   "source": [
    "repeated_titles2 = df.title.value_counts()[df.title.value_counts() > 1].index\n",
    "repeated_titles2"
   ]
  },
  {
   "cell_type": "code",
   "execution_count": 30,
   "id": "3c2ba7fc",
   "metadata": {},
   "outputs": [
    {
     "data": {
      "text/html": [
       "<div>\n",
       "<style scoped>\n",
       "    .dataframe tbody tr th:only-of-type {\n",
       "        vertical-align: middle;\n",
       "    }\n",
       "\n",
       "    .dataframe tbody tr th {\n",
       "        vertical-align: top;\n",
       "    }\n",
       "\n",
       "    .dataframe thead th {\n",
       "        text-align: right;\n",
       "    }\n",
       "</style>\n",
       "<table border=\"1\" class=\"dataframe\">\n",
       "  <thead>\n",
       "    <tr style=\"text-align: right;\">\n",
       "      <th></th>\n",
       "      <th>body</th>\n",
       "      <th>title</th>\n",
       "      <th>category</th>\n",
       "    </tr>\n",
       "  </thead>\n",
       "  <tbody>\n",
       "    <tr>\n",
       "      <th>778</th>\n",
       "      <td>I spent over a decade as a product manager at ...</td>\n",
       "      <td>Great help content starts with great questions</td>\n",
       "      <td>Startups &amp; Business</td>\n",
       "    </tr>\n",
       "    <tr>\n",
       "      <th>779</th>\n",
       "      <td>So if the questions you ask your team, yoursel...</td>\n",
       "      <td>Great help content starts with great questions</td>\n",
       "      <td>Product &amp; Design</td>\n",
       "    </tr>\n",
       "    <tr>\n",
       "      <th>1262</th>\n",
       "      <td>What?\\n\\nAs you may know, the product owner or...</td>\n",
       "      <td>Learn More</td>\n",
       "      <td>Product &amp; Design</td>\n",
       "    </tr>\n",
       "    <tr>\n",
       "      <th>1263</th>\n",
       "      <td>The Strategy Canvas\\n\\nThe Strategy Canvas was...</td>\n",
       "      <td>Learn More</td>\n",
       "      <td>Product &amp; Design</td>\n",
       "    </tr>\n",
       "    <tr>\n",
       "      <th>2344</th>\n",
       "      <td>In 2011, Joel Spolsky launched his company Fog...</td>\n",
       "      <td>Why Trello Failed to Build a $1 Billion+ Business</td>\n",
       "      <td>Startups &amp; Business</td>\n",
       "    </tr>\n",
       "    <tr>\n",
       "      <th>2345</th>\n",
       "      <td>Why Trello Failed to Build a $1 Billion+ Busin...</td>\n",
       "      <td>Why Trello Failed to Build a $1 Billion+ Business</td>\n",
       "      <td>Startups &amp; Business</td>\n",
       "    </tr>\n",
       "  </tbody>\n",
       "</table>\n",
       "</div>"
      ],
      "text/plain": [
       "                                                   body  \\\n",
       "778   I spent over a decade as a product manager at ...   \n",
       "779   So if the questions you ask your team, yoursel...   \n",
       "1262  What?\\n\\nAs you may know, the product owner or...   \n",
       "1263  The Strategy Canvas\\n\\nThe Strategy Canvas was...   \n",
       "2344  In 2011, Joel Spolsky launched his company Fog...   \n",
       "2345  Why Trello Failed to Build a $1 Billion+ Busin...   \n",
       "\n",
       "                                                  title             category  \n",
       "778      Great help content starts with great questions  Startups & Business  \n",
       "779      Great help content starts with great questions     Product & Design  \n",
       "1262                                         Learn More     Product & Design  \n",
       "1263                                         Learn More     Product & Design  \n",
       "2344  Why Trello Failed to Build a $1 Billion+ Business  Startups & Business  \n",
       "2345  Why Trello Failed to Build a $1 Billion+ Business  Startups & Business  "
      ]
     },
     "execution_count": 30,
     "metadata": {},
     "output_type": "execute_result"
    }
   ],
   "source": [
    "df[df.title.isin(repeated_titles2)]"
   ]
  },
  {
   "cell_type": "markdown",
   "id": "7c64c7b3",
   "metadata": {},
   "source": [
    "> **NOTE:**\n",
    ">- Currency sympols --> Startups & Business"
   ]
  },
  {
   "cell_type": "code",
   "execution_count": 31,
   "id": "d6c1246e",
   "metadata": {},
   "outputs": [],
   "source": [
    "# df.iloc[np.r_[778, 779]].body.value_counts()"
   ]
  },
  {
   "cell_type": "markdown",
   "id": "83dc38a1",
   "metadata": {},
   "source": [
    "**Drop the \"Learn More\" Title**"
   ]
  },
  {
   "cell_type": "code",
   "execution_count": 32,
   "id": "b2638146",
   "metadata": {},
   "outputs": [],
   "source": [
    "df = df[~(df.title == 'Learn More')].copy()"
   ]
  },
  {
   "cell_type": "markdown",
   "id": "0baf7344",
   "metadata": {},
   "source": [
    "**Drop Remaining Duplicated Titles** <br>\n",
    "If we dropped them we'll lose some information, since they have different bodies"
   ]
  },
  {
   "cell_type": "code",
   "execution_count": 33,
   "id": "3f2da2ac",
   "metadata": {},
   "outputs": [],
   "source": [
    "# df.drop_duplicates(subset='title', inplace=True)"
   ]
  },
  {
   "cell_type": "markdown",
   "id": "cdb3fc0a",
   "metadata": {},
   "source": [
    "<br>"
   ]
  },
  {
   "cell_type": "markdown",
   "id": "8be96892",
   "metadata": {},
   "source": [
    "<a id='short'></a>\n",
    "## Step 3: Text Preprocessing\n",
    "<ul>\n",
    "<li><a href=\"#load\">Step 0: Load the Data</a></li>\n",
    "<li><a href=\"#nan\">Step 1: Check for NaNs</a></li>\n",
    "<li><a href=\"#duplicate\">Step 2: Check for Duplicates</a></li>\n",
    "<li><a href=\"#short\"><b>Step 3: Check short Titles</b></a></li>\n",
    "<li><a href=\"#preprocess\">Step 4: Text Preprocessing</a></li> \n",
    "<li><a href=\"#save\">Step 5: Save The Cleaned DataFrame</a></li>\n",
    "<li><a href=\"#end\">End of Notebook</a></li>  \n",
    "</ul>"
   ]
  },
  {
   "cell_type": "code",
   "execution_count": 34,
   "id": "a2bf9642",
   "metadata": {},
   "outputs": [
    {
     "data": {
      "text/html": [
       "<div>\n",
       "<style scoped>\n",
       "    .dataframe tbody tr th:only-of-type {\n",
       "        vertical-align: middle;\n",
       "    }\n",
       "\n",
       "    .dataframe tbody tr th {\n",
       "        vertical-align: top;\n",
       "    }\n",
       "\n",
       "    .dataframe thead th {\n",
       "        text-align: right;\n",
       "    }\n",
       "</style>\n",
       "<table border=\"1\" class=\"dataframe\">\n",
       "  <thead>\n",
       "    <tr style=\"text-align: right;\">\n",
       "      <th></th>\n",
       "      <th>body</th>\n",
       "      <th>title</th>\n",
       "      <th>category</th>\n",
       "    </tr>\n",
       "  </thead>\n",
       "  <tbody>\n",
       "    <tr>\n",
       "      <th>4</th>\n",
       "      <td>1. Advisors\\n\\nChoose experienced advisors ear...</td>\n",
       "      <td>1. Advisors</td>\n",
       "      <td>Startups &amp; Business</td>\n",
       "    </tr>\n",
       "    <tr>\n",
       "      <th>267</th>\n",
       "      <td>The Affordable Care Act is far from perfect–fo...</td>\n",
       "      <td>Affordable Care</td>\n",
       "      <td>Startups &amp; Business</td>\n",
       "    </tr>\n",
       "    <tr>\n",
       "      <th>295</th>\n",
       "      <td>Over the last year or two I have been explorin...</td>\n",
       "      <td>Applying OKRs</td>\n",
       "      <td>Startups &amp; Business</td>\n",
       "    </tr>\n",
       "    <tr>\n",
       "      <th>334</th>\n",
       "      <td>We tell startups all the time that they have t...</td>\n",
       "      <td>Before Growth</td>\n",
       "      <td>Startups &amp; Business</td>\n",
       "    </tr>\n",
       "    <tr>\n",
       "      <th>341</th>\n",
       "      <td>\\n\\n\\n\\n\\n\\n\\n\\nMay 2001\\n\\n\\n\\n(This article ...</td>\n",
       "      <td>Being Popular</td>\n",
       "      <td>Engineering</td>\n",
       "    </tr>\n",
       "    <tr>\n",
       "      <th>359</th>\n",
       "      <td>tags:\\r\\n\\r\\nDuring my career, I've heard many...</td>\n",
       "      <td>Bliki: FunctionLength</td>\n",
       "      <td>Engineering</td>\n",
       "    </tr>\n",
       "    <tr>\n",
       "      <th>360</th>\n",
       "      <td>tags:\\r\\n\\r\\nSometimes when I work with some d...</td>\n",
       "      <td>Bliki: HiddenPrecision</td>\n",
       "      <td>Engineering</td>\n",
       "    </tr>\n",
       "    <tr>\n",
       "      <th>361</th>\n",
       "      <td>tags:\\n\\nSynthetic monitoring (also called sem...</td>\n",
       "      <td>Bliki: SyntheticMonitoring</td>\n",
       "      <td>Engineering</td>\n",
       "    </tr>\n",
       "    <tr>\n",
       "      <th>362</th>\n",
       "      <td>tags:\\r\\n\\r\\nWhen programming, I often find it...</td>\n",
       "      <td>Bliki: ValueObject</td>\n",
       "      <td>Engineering</td>\n",
       "    </tr>\n",
       "    <tr>\n",
       "      <th>364</th>\n",
       "      <td>Over the last five years, there has been an in...</td>\n",
       "      <td>Board Members</td>\n",
       "      <td>Startups &amp; Business</td>\n",
       "    </tr>\n",
       "    <tr>\n",
       "      <th>389</th>\n",
       "      <td>My personal challenge for 2016 was to build a ...</td>\n",
       "      <td>Building Jarvis</td>\n",
       "      <td>Engineering</td>\n",
       "    </tr>\n",
       "    <tr>\n",
       "      <th>423</th>\n",
       "      <td>The following strategies will help you get you...</td>\n",
       "      <td>Cancel reply</td>\n",
       "      <td>Startups &amp; Business</td>\n",
       "    </tr>\n",
       "    <tr>\n",
       "      <th>442</th>\n",
       "      <td>Here’s how it felt in the weeks before I resig...</td>\n",
       "      <td>Co-founder conflict</td>\n",
       "      <td>Startups &amp; Business</td>\n",
       "    </tr>\n",
       "    <tr>\n",
       "      <th>454</th>\n",
       "      <td>“Category kings”, defined as market-share lead...</td>\n",
       "      <td>Consumer</td>\n",
       "      <td>Startups &amp; Business</td>\n",
       "    </tr>\n",
       "    <tr>\n",
       "      <th>462</th>\n",
       "      <td>Cooper’s processes have largely developed and ...</td>\n",
       "      <td>Cooper</td>\n",
       "      <td>Product &amp; Design</td>\n",
       "    </tr>\n",
       "    <tr>\n",
       "      <th>501</th>\n",
       "      <td>missing</td>\n",
       "      <td>Debugging Recruiting</td>\n",
       "      <td>Startups &amp; Business</td>\n",
       "    </tr>\n",
       "    <tr>\n",
       "      <th>574</th>\n",
       "      <td>There has probably been more capital looking t...</td>\n",
       "      <td>Dilution</td>\n",
       "      <td>Startups &amp; Business</td>\n",
       "    </tr>\n",
       "    <tr>\n",
       "      <th>582</th>\n",
       "      <td>“I’m into distribution, I’m like Atlantic\\n\\nI...</td>\n",
       "      <td>Distribution</td>\n",
       "      <td>Startups &amp; Business</td>\n",
       "    </tr>\n",
       "    <tr>\n",
       "      <th>659</th>\n",
       "      <td>The first time I learned about LSTMs, my eyes ...</td>\n",
       "      <td>Exploring LSTMs</td>\n",
       "      <td>Engineering</td>\n",
       "    </tr>\n",
       "    <tr>\n",
       "      <th>705</th>\n",
       "      <td>Long time VC watcher, writer, and analyst Dan ...</td>\n",
       "      <td>Founder Friendly</td>\n",
       "      <td>Startups &amp; Business</td>\n",
       "    </tr>\n",
       "    <tr>\n",
       "      <th>780</th>\n",
       "      <td>A lot of people ask me what the ideal cofounde...</td>\n",
       "      <td>Greg</td>\n",
       "      <td>Startups &amp; Business</td>\n",
       "    </tr>\n",
       "    <tr>\n",
       "      <th>783</th>\n",
       "      <td>Several other important pitfalls can threaten ...</td>\n",
       "      <td>Growth</td>\n",
       "      <td>Startups &amp; Business</td>\n",
       "    </tr>\n",
       "    <tr>\n",
       "      <th>1161</th>\n",
       "      <td>We wanted to level access to the technology of...</td>\n",
       "      <td>Incorporation</td>\n",
       "      <td>Startups &amp; Business</td>\n",
       "    </tr>\n",
       "    <tr>\n",
       "      <th>1167</th>\n",
       "      <td>tags:\\n\\nInfrastructure as code is the approac...</td>\n",
       "      <td>InfrastructureAsCode</td>\n",
       "      <td>Engineering</td>\n",
       "    </tr>\n",
       "    <tr>\n",
       "      <th>1191</th>\n",
       "      <td>The Internet Economy\\n\\nWe are living in an er...</td>\n",
       "      <td>Internet Economy</td>\n",
       "      <td>Startups &amp; Business</td>\n",
       "    </tr>\n",
       "    <tr>\n",
       "      <th>1252</th>\n",
       "      <td>Looking through our exception tracker the othe...</td>\n",
       "      <td>LIKE injection</td>\n",
       "      <td>Engineering</td>\n",
       "    </tr>\n",
       "    <tr>\n",
       "      <th>1293</th>\n",
       "      <td>It almost looked like a mistake, but it change...</td>\n",
       "      <td>Listening deeply</td>\n",
       "      <td>Product &amp; Design</td>\n",
       "    </tr>\n",
       "    <tr>\n",
       "      <th>1294</th>\n",
       "      <td>Little Snowballs\\r\\n\\r\\nWhen myself and my co-...</td>\n",
       "      <td>Little Snowballs</td>\n",
       "      <td>Startups &amp; Business</td>\n",
       "    </tr>\n",
       "    <tr>\n",
       "      <th>1329</th>\n",
       "      <td>missing</td>\n",
       "      <td>Mark Zuckerberg</td>\n",
       "      <td>Startups &amp; Business</td>\n",
       "    </tr>\n",
       "    <tr>\n",
       "      <th>1335</th>\n",
       "      <td>Measuring Magic How we turned an elusive visio...</td>\n",
       "      <td>Measuring Magic</td>\n",
       "      <td>Product &amp; Design</td>\n",
       "    </tr>\n",
       "    <tr>\n",
       "      <th>1398</th>\n",
       "      <td>Did that title get your attention? Good.\\n\\nLi...</td>\n",
       "      <td>NoTDD</td>\n",
       "      <td>Engineering</td>\n",
       "    </tr>\n",
       "    <tr>\n",
       "      <th>1411</th>\n",
       "      <td>On differentiation\\n\\nStorytelling goes a long...</td>\n",
       "      <td>On differentiation</td>\n",
       "      <td>Startups &amp; Business</td>\n",
       "    </tr>\n",
       "    <tr>\n",
       "      <th>1474</th>\n",
       "      <td>This blog is about how to not to be disrupted ...</td>\n",
       "      <td>Peter Diamandis</td>\n",
       "      <td>Startups &amp; Business</td>\n",
       "    </tr>\n",
       "    <tr>\n",
       "      <th>1497</th>\n",
       "      <td>Almost all advice for early stage startup comp...</td>\n",
       "      <td>Problem-Market Fit</td>\n",
       "      <td>Startups &amp; Business</td>\n",
       "    </tr>\n",
       "    <tr>\n",
       "      <th>1559</th>\n",
       "      <td>I'm a strong believer in the importance of the...</td>\n",
       "      <td>Quora</td>\n",
       "      <td>Startups &amp; Business</td>\n",
       "    </tr>\n",
       "    <tr>\n",
       "      <th>1578</th>\n",
       "      <td>Rebuilding slack.com A redesign powered by CSS...</td>\n",
       "      <td>Rebuilding slack.com</td>\n",
       "      <td>Product &amp; Design</td>\n",
       "    </tr>\n",
       "    <tr>\n",
       "      <th>1601</th>\n",
       "      <td>Most of the companies I work with tell me that...</td>\n",
       "      <td>Resource Constraints</td>\n",
       "      <td>Startups &amp; Business</td>\n",
       "    </tr>\n",
       "    <tr>\n",
       "      <th>1609</th>\n",
       "      <td>Here are some mistakes that I expect most firs...</td>\n",
       "      <td>Rich Mironov</td>\n",
       "      <td>Product &amp; Design</td>\n",
       "    </tr>\n",
       "    <tr>\n",
       "      <th>1658</th>\n",
       "      <td>Like many trends in software there’s no one cl...</td>\n",
       "      <td>Serverless Architectures</td>\n",
       "      <td>Engineering</td>\n",
       "    </tr>\n",
       "    <tr>\n",
       "      <th>1706</th>\n",
       "      <td>Later in the afternoon, we attended what the d...</td>\n",
       "      <td>Spotify Design</td>\n",
       "      <td>Startups &amp; Business</td>\n",
       "    </tr>\n",
       "    <tr>\n",
       "      <th>1707</th>\n",
       "      <td>After a full day of understanding the problem ...</td>\n",
       "      <td>Sprint: Friday</td>\n",
       "      <td>Startups &amp; Business</td>\n",
       "    </tr>\n",
       "    <tr>\n",
       "      <th>1708</th>\n",
       "      <td>Sprint: Wednesday\\r\\n\\r\\nBy Wednesday morning ...</td>\n",
       "      <td>Sprint: Thursday</td>\n",
       "      <td>Startups &amp; Business</td>\n",
       "    </tr>\n",
       "    <tr>\n",
       "      <th>1709</th>\n",
       "      <td>Sprint: Thursday\\r\\n\\r\\nOn Wednesday, you and ...</td>\n",
       "      <td>Sprint: Wednesday</td>\n",
       "      <td>Startups &amp; Business</td>\n",
       "    </tr>\n",
       "    <tr>\n",
       "      <th>1775</th>\n",
       "      <td>At RRE Ventures, an early stage venture capita...</td>\n",
       "      <td>Talent Playbook</td>\n",
       "      <td>Startups &amp; Business</td>\n",
       "    </tr>\n",
       "    <tr>\n",
       "      <th>2136</th>\n",
       "      <td>Designers are asked to perform minor miracles ...</td>\n",
       "      <td>UX distilling</td>\n",
       "      <td>Product &amp; Design</td>\n",
       "    </tr>\n",
       "    <tr>\n",
       "      <th>2149</th>\n",
       "      <td>Commentators are looking hard for what’s wrong...</td>\n",
       "      <td>Unit Economics</td>\n",
       "      <td>Startups &amp; Business</td>\n",
       "    </tr>\n",
       "    <tr>\n",
       "      <th>2280</th>\n",
       "      <td>I started reading “Effective DevOps” by Jennif...</td>\n",
       "      <td>What's devops?</td>\n",
       "      <td>Engineering</td>\n",
       "    </tr>\n",
       "    <tr>\n",
       "      <th>2411</th>\n",
       "      <td>missing</td>\n",
       "      <td>Y Combinator</td>\n",
       "      <td>Startups &amp; Business</td>\n",
       "    </tr>\n",
       "    <tr>\n",
       "      <th>2445</th>\n",
       "      <td>Fig. 5: By storing previously successful tasks...</td>\n",
       "      <td>ember-concurrency</td>\n",
       "      <td>Engineering</td>\n",
       "    </tr>\n",
       "    <tr>\n",
       "      <th>2446</th>\n",
       "      <td>Sometimes a seemingly innocuous event can caus...</td>\n",
       "      <td>geek.ly</td>\n",
       "      <td>Engineering</td>\n",
       "    </tr>\n",
       "    <tr>\n",
       "      <th>2452</th>\n",
       "      <td>The team at thoughtbot has so much of their pr...</td>\n",
       "      <td>thoughtbot</td>\n",
       "      <td>Startups &amp; Business</td>\n",
       "    </tr>\n",
       "  </tbody>\n",
       "</table>\n",
       "</div>"
      ],
      "text/plain": [
       "                                                   body  \\\n",
       "4     1. Advisors\\n\\nChoose experienced advisors ear...   \n",
       "267   The Affordable Care Act is far from perfect–fo...   \n",
       "295   Over the last year or two I have been explorin...   \n",
       "334   We tell startups all the time that they have t...   \n",
       "341   \\n\\n\\n\\n\\n\\n\\n\\nMay 2001\\n\\n\\n\\n(This article ...   \n",
       "359   tags:\\r\\n\\r\\nDuring my career, I've heard many...   \n",
       "360   tags:\\r\\n\\r\\nSometimes when I work with some d...   \n",
       "361   tags:\\n\\nSynthetic monitoring (also called sem...   \n",
       "362   tags:\\r\\n\\r\\nWhen programming, I often find it...   \n",
       "364   Over the last five years, there has been an in...   \n",
       "389   My personal challenge for 2016 was to build a ...   \n",
       "423   The following strategies will help you get you...   \n",
       "442   Here’s how it felt in the weeks before I resig...   \n",
       "454   “Category kings”, defined as market-share lead...   \n",
       "462   Cooper’s processes have largely developed and ...   \n",
       "501                                             missing   \n",
       "574   There has probably been more capital looking t...   \n",
       "582   “I’m into distribution, I’m like Atlantic\\n\\nI...   \n",
       "659   The first time I learned about LSTMs, my eyes ...   \n",
       "705   Long time VC watcher, writer, and analyst Dan ...   \n",
       "780   A lot of people ask me what the ideal cofounde...   \n",
       "783   Several other important pitfalls can threaten ...   \n",
       "1161  We wanted to level access to the technology of...   \n",
       "1167  tags:\\n\\nInfrastructure as code is the approac...   \n",
       "1191  The Internet Economy\\n\\nWe are living in an er...   \n",
       "1252  Looking through our exception tracker the othe...   \n",
       "1293  It almost looked like a mistake, but it change...   \n",
       "1294  Little Snowballs\\r\\n\\r\\nWhen myself and my co-...   \n",
       "1329                                            missing   \n",
       "1335  Measuring Magic How we turned an elusive visio...   \n",
       "1398  Did that title get your attention? Good.\\n\\nLi...   \n",
       "1411  On differentiation\\n\\nStorytelling goes a long...   \n",
       "1474  This blog is about how to not to be disrupted ...   \n",
       "1497  Almost all advice for early stage startup comp...   \n",
       "1559  I'm a strong believer in the importance of the...   \n",
       "1578  Rebuilding slack.com A redesign powered by CSS...   \n",
       "1601  Most of the companies I work with tell me that...   \n",
       "1609  Here are some mistakes that I expect most firs...   \n",
       "1658  Like many trends in software there’s no one cl...   \n",
       "1706  Later in the afternoon, we attended what the d...   \n",
       "1707  After a full day of understanding the problem ...   \n",
       "1708  Sprint: Wednesday\\r\\n\\r\\nBy Wednesday morning ...   \n",
       "1709  Sprint: Thursday\\r\\n\\r\\nOn Wednesday, you and ...   \n",
       "1775  At RRE Ventures, an early stage venture capita...   \n",
       "2136  Designers are asked to perform minor miracles ...   \n",
       "2149  Commentators are looking hard for what’s wrong...   \n",
       "2280  I started reading “Effective DevOps” by Jennif...   \n",
       "2411                                            missing   \n",
       "2445  Fig. 5: By storing previously successful tasks...   \n",
       "2446  Sometimes a seemingly innocuous event can caus...   \n",
       "2452  The team at thoughtbot has so much of their pr...   \n",
       "\n",
       "                           title             category  \n",
       "4                    1. Advisors  Startups & Business  \n",
       "267              Affordable Care  Startups & Business  \n",
       "295                Applying OKRs  Startups & Business  \n",
       "334                Before Growth  Startups & Business  \n",
       "341                Being Popular          Engineering  \n",
       "359        Bliki: FunctionLength          Engineering  \n",
       "360       Bliki: HiddenPrecision          Engineering  \n",
       "361   Bliki: SyntheticMonitoring          Engineering  \n",
       "362           Bliki: ValueObject          Engineering  \n",
       "364                Board Members  Startups & Business  \n",
       "389              Building Jarvis          Engineering  \n",
       "423                 Cancel reply  Startups & Business  \n",
       "442          Co-founder conflict  Startups & Business  \n",
       "454                     Consumer  Startups & Business  \n",
       "462                       Cooper     Product & Design  \n",
       "501         Debugging Recruiting  Startups & Business  \n",
       "574                     Dilution  Startups & Business  \n",
       "582                 Distribution  Startups & Business  \n",
       "659              Exploring LSTMs          Engineering  \n",
       "705             Founder Friendly  Startups & Business  \n",
       "780                         Greg  Startups & Business  \n",
       "783                       Growth  Startups & Business  \n",
       "1161               Incorporation  Startups & Business  \n",
       "1167        InfrastructureAsCode          Engineering  \n",
       "1191            Internet Economy  Startups & Business  \n",
       "1252              LIKE injection          Engineering  \n",
       "1293            Listening deeply     Product & Design  \n",
       "1294            Little Snowballs  Startups & Business  \n",
       "1329             Mark Zuckerberg  Startups & Business  \n",
       "1335             Measuring Magic     Product & Design  \n",
       "1398                       NoTDD          Engineering  \n",
       "1411          On differentiation  Startups & Business  \n",
       "1474             Peter Diamandis  Startups & Business  \n",
       "1497          Problem-Market Fit  Startups & Business  \n",
       "1559                       Quora  Startups & Business  \n",
       "1578        Rebuilding slack.com     Product & Design  \n",
       "1601        Resource Constraints  Startups & Business  \n",
       "1609                Rich Mironov     Product & Design  \n",
       "1658    Serverless Architectures          Engineering  \n",
       "1706              Spotify Design  Startups & Business  \n",
       "1707              Sprint: Friday  Startups & Business  \n",
       "1708            Sprint: Thursday  Startups & Business  \n",
       "1709           Sprint: Wednesday  Startups & Business  \n",
       "1775             Talent Playbook  Startups & Business  \n",
       "2136               UX distilling     Product & Design  \n",
       "2149              Unit Economics  Startups & Business  \n",
       "2280              What's devops?          Engineering  \n",
       "2411                Y Combinator  Startups & Business  \n",
       "2445           ember-concurrency          Engineering  \n",
       "2446                     geek.ly          Engineering  \n",
       "2452                  thoughtbot  Startups & Business  "
      ]
     },
     "execution_count": 34,
     "metadata": {},
     "output_type": "execute_result"
    }
   ],
   "source": [
    "# check short titles\n",
    "short_title = [t for t in df.title if len(t.split()) < 3]\n",
    "df[df.title.isin(short_title)]"
   ]
  },
  {
   "cell_type": "markdown",
   "id": "8c4d0dc8",
   "metadata": {},
   "source": [
    "> - **OKRs** stand for “Objectives and Key Results.” It is a collaborative goal-setting methodology used by teams and individuals to set challenging, ambitious goals with measurable results. OKRs are how you track progress, create alignment, and encourage engagement around measurable goals.\n",
    "> - **LSTM** (Long short-term memory) is an artificial neural network used in the fields of artificial intelligence and deep learning."
   ]
  },
  {
   "cell_type": "code",
   "execution_count": 35,
   "id": "8fb5e526",
   "metadata": {},
   "outputs": [],
   "source": [
    "titles_to_drop = ['cancel reply', 'notdd', 'quora', 'geek.ly']\n",
    "df = df[~(df.title.isin(titles_to_drop))].copy()"
   ]
  },
  {
   "cell_type": "markdown",
   "id": "e432808d",
   "metadata": {},
   "source": [
    "> It would be better if we have the time to look at the articles and give them representative titles, rather than just dropping them."
   ]
  },
  {
   "cell_type": "markdown",
   "id": "a733fd80",
   "metadata": {},
   "source": [
    "<br>"
   ]
  },
  {
   "cell_type": "markdown",
   "id": "355f9cf4",
   "metadata": {},
   "source": [
    "<a id='preprocess'></a>\n",
    "## Step 4: Text Preprocessing\n",
    "<ul>\n",
    "<li><a href=\"#load\">Step 0: Load the Data</a></li>\n",
    "<li><a href=\"#nan\">Step 1: Check for NaNs</a></li>\n",
    "<li><a href=\"#duplicate\">Step 2: Check for Duplicates</a></li>\n",
    "<li><a href=\"#short\">Step 3: Check short Titles</a></li>\n",
    "<li><a href=\"#preprocess\"><b>Step 4: Text Preprocessing</b></a></li> \n",
    "<li><a href=\"#save\">Step 5: Save The Cleaned DataFrame</a></li>\n",
    "<li><a href=\"#end\">End of Notebook</a></li>  \n",
    "</ul>"
   ]
  },
  {
   "cell_type": "markdown",
   "id": "138e3232",
   "metadata": {},
   "source": [
    "**There are two methods:**\n",
    "- We can add a clean_text column in the data, then use string methods\n",
    "- or we can extract features, then drop the unwanted columns"
   ]
  },
  {
   "cell_type": "markdown",
   "id": "00eccd68",
   "metadata": {},
   "source": [
    "## Normalization\n",
    "1. Convert all text to lower case\n",
    "2. Remove Punctuations\n",
    "3. Remove Stop Words\n",
    "4. Remove Emojis\n",
    "5. Remove Non-ASCII Characters"
   ]
  },
  {
   "cell_type": "markdown",
   "id": "057b457b",
   "metadata": {},
   "source": [
    "**1. Convert all text to lower case**"
   ]
  },
  {
   "cell_type": "code",
   "execution_count": 36,
   "id": "cafdb75a",
   "metadata": {},
   "outputs": [],
   "source": [
    "# 1. Convert all text to lower case\n",
    "df[['title_clean', 'body_clean']] = df[['title', 'body']].applymap(lambda x: x.lower())"
   ]
  },
  {
   "cell_type": "markdown",
   "id": "54373a29",
   "metadata": {},
   "source": [
    "<br>"
   ]
  },
  {
   "cell_type": "markdown",
   "id": "e4127b2c",
   "metadata": {},
   "source": [
    "**remove underscores**"
   ]
  },
  {
   "cell_type": "code",
   "execution_count": 37,
   "id": "11127b89",
   "metadata": {},
   "outputs": [
    {
     "data": {
      "text/plain": [
       "0.018484830856323242"
      ]
     },
     "execution_count": 37,
     "metadata": {},
     "output_type": "execute_result"
    }
   ],
   "source": [
    "t0 = time()\n",
    "df[['body_clean', 'title_clean']] = df[['body_clean', 'title_clean']].\\\n",
    "applymap(lambda x: x.replace('_', ' '))\n",
    "time()- t0"
   ]
  },
  {
   "cell_type": "markdown",
   "id": "3136511a",
   "metadata": {},
   "source": [
    "<br>"
   ]
  },
  {
   "cell_type": "markdown",
   "id": "29fb312e",
   "metadata": {},
   "source": [
    "https://stackoverflow.com/questions/66415390/how-to-remove-words-which-contains-same-character-more-number-of-time"
   ]
  },
  {
   "cell_type": "markdown",
   "id": "8d5ef218",
   "metadata": {},
   "source": [
    "**Remove words which contains same character more than twice**"
   ]
  },
  {
   "cell_type": "code",
   "execution_count": 38,
   "id": "6e0570e5",
   "metadata": {},
   "outputs": [
    {
     "data": {
      "text/plain": [
       "' kinds'"
      ]
     },
     "execution_count": 38,
     "metadata": {},
     "output_type": "execute_result"
    }
   ],
   "source": [
    "re.sub(r\"(.)\\1{2,}\\w*\", \"\", 'aaaaaall kinds', flags=re.I)"
   ]
  },
  {
   "cell_type": "code",
   "execution_count": 39,
   "id": "221e12e6",
   "metadata": {},
   "outputs": [
    {
     "data": {
      "text/plain": [
       "1.2575621604919434"
      ]
     },
     "execution_count": 39,
     "metadata": {},
     "output_type": "execute_result"
    }
   ],
   "source": [
    "t0 = time()\n",
    "df[['body_clean', 'title_clean']] = df[['body_clean', 'title_clean']].applymap(helper.remove_repeated_chars)\n",
    "time()- t0"
   ]
  },
  {
   "cell_type": "markdown",
   "id": "afd19dc0",
   "metadata": {},
   "source": [
    "<br>"
   ]
  },
  {
   "cell_type": "markdown",
   "id": "620f8942",
   "metadata": {},
   "source": [
    "https://stackoverflow.com/questions/265960/best-way-to-strip-punctuation-from-a-string"
   ]
  },
  {
   "cell_type": "markdown",
   "id": "65d41830",
   "metadata": {},
   "source": [
    "**2. Remove Punctuations and words with less than 3 characters**"
   ]
  },
  {
   "cell_type": "code",
   "execution_count": 40,
   "id": "ba38b83e",
   "metadata": {},
   "outputs": [
    {
     "data": {
      "text/plain": [
       "['Why', 'Trello', 'Failed', 'Build', '$', 'Billion', 'Business']"
      ]
     },
     "execution_count": 40,
     "metadata": {},
     "output_type": "execute_result"
    }
   ],
   "source": [
    "# \\w matches a letter, digit, or underscore\n",
    "# \\d --> Digits\n",
    "# + --> One or more occurrences\n",
    "# * --> Zero or one occurrences\n",
    "# {} --> Exactly the specified number of occurrences\n",
    "# {2,} --> Two or more occurrences\n",
    "# \\p{Sc} --> Currency Symbols\n",
    "# We need to keep Currency sympols as they are strongly related to Startups & Business\n",
    "\n",
    "regex.findall(r'\\w{3,}|\\p{Sc}', 'Why Trello Failed to Build a $1 Billion+ Business')"
   ]
  },
  {
   "cell_type": "code",
   "execution_count": 41,
   "id": "cdfd56b3",
   "metadata": {},
   "outputs": [
    {
     "data": {
      "text/plain": [
       "1.62282395362854"
      ]
     },
     "execution_count": 41,
     "metadata": {},
     "output_type": "execute_result"
    }
   ],
   "source": [
    "# This function keeps only letters, digits, underscores, and currency symbols\n",
    "# Also it removes any word less than 3 characters\n",
    "t0 = time()\n",
    "df[['body_clean', 'title_clean']] = df[['body_clean', 'title_clean']].applymap(helper.remove_punctuation)\n",
    "time()- t0"
   ]
  },
  {
   "cell_type": "code",
   "execution_count": 42,
   "id": "72ac8178",
   "metadata": {},
   "outputs": [],
   "source": [
    "# print(string.punctuation) \n",
    "# # I removed currency, plus , percent and exclamation \n",
    "# # Since I believe they would be useful features\n",
    "# string.punctuation.replace('$', '').replace('+', '').replace('%', '').replace('!','').replace('!','?')"
   ]
  },
  {
   "cell_type": "code",
   "execution_count": 43,
   "id": "be4b0532",
   "metadata": {},
   "outputs": [],
   "source": [
    "# # 2. Remove Punctuations\n",
    "# def remove_punctuations(s):\n",
    "#     return s.translate(str.maketrans('', '', '\"#&\\'()*,-./:;<=>@[\\\\]^_`{|}~'))\n",
    "\n",
    "# t0 = time()\n",
    "# df[['body_clean', 'title_clean']] = df[['body_clean', 'title_clean']].applymap(remove_punctuations)\n",
    "# time()- t0"
   ]
  },
  {
   "cell_type": "code",
   "execution_count": 44,
   "id": "b09423c0",
   "metadata": {},
   "outputs": [
    {
     "data": {
      "text/plain": [
       "why trello failed build $ billion business                    2\n",
       "extraordinary business lessons from self made billionaires    1\n",
       "billion dollar ideas how know when you see one                1\n",
       "delivering billions messages exactly once                     1\n",
       "how discord indexes billions messages                         1\n",
       "Name: title_clean, dtype: int64"
      ]
     },
     "execution_count": 44,
     "metadata": {},
     "output_type": "execute_result"
    }
   ],
   "source": [
    "df[df['title_clean'].str.contains('billion')].title_clean.value_counts().head()"
   ]
  },
  {
   "cell_type": "markdown",
   "id": "d8a4d650",
   "metadata": {},
   "source": [
    "<br>"
   ]
  },
  {
   "cell_type": "markdown",
   "id": "1bf454db",
   "metadata": {},
   "source": [
    "**3. Remove Stop Words**"
   ]
  },
  {
   "cell_type": "code",
   "execution_count": 45,
   "id": "5a0c7d91",
   "metadata": {},
   "outputs": [
    {
     "data": {
      "text/plain": [
       "1.202406883239746"
      ]
     },
     "execution_count": 45,
     "metadata": {},
     "output_type": "execute_result"
    }
   ],
   "source": [
    "t0 = time()\n",
    "df[['body_clean', 'title_clean']] = df[['body_clean', 'title_clean']].applymap(helper.remove_stop_words)\n",
    "time()- t0"
   ]
  },
  {
   "cell_type": "markdown",
   "id": "4dd3fca7",
   "metadata": {},
   "source": [
    "<br>"
   ]
  },
  {
   "cell_type": "markdown",
   "id": "8fca8fb5",
   "metadata": {},
   "source": [
    "**4. Remove Emojis**"
   ]
  },
  {
   "cell_type": "code",
   "execution_count": 46,
   "id": "0c24eb04",
   "metadata": {},
   "outputs": [
    {
     "data": {
      "text/plain": [
       "0.4555220603942871"
      ]
     },
     "execution_count": 46,
     "metadata": {},
     "output_type": "execute_result"
    }
   ],
   "source": [
    "t0 = time()\n",
    "df[['body_clean', 'title_clean']] = df[['body_clean', 'title_clean']].applymap(helper.remove_emojis)\n",
    "time()- t0"
   ]
  },
  {
   "cell_type": "markdown",
   "id": "477fcfa0",
   "metadata": {},
   "source": [
    "<br>"
   ]
  },
  {
   "cell_type": "markdown",
   "id": "169f478d",
   "metadata": {},
   "source": [
    "**5. Remove Non-ASCII Characters**"
   ]
  },
  {
   "cell_type": "markdown",
   "id": "51751b75",
   "metadata": {},
   "source": [
    "https://stackoverflow.com/questions/14953441/strip-non-ascii-chars-but-allow-currency-symbols <br>\n",
    "https://www.regular-expressions.info/unicode.html#prop"
   ]
  },
  {
   "cell_type": "code",
   "execution_count": 47,
   "id": "707e2125",
   "metadata": {},
   "outputs": [
    {
     "data": {
      "text/plain": [
       "'\\x00\\x01\\x02\\x03\\x04\\x05\\x06\\x07\\x08\\t\\n\\x0b\\x0c\\r\\x0e\\x0f\\x10\\x11\\x12\\x13\\x14\\x15\\x16\\x17\\x18\\x19\\x1a\\x1b\\x1c\\x1d\\x1e\\x1f !\"#$%&\\'()*+,-./0123456789:;<=>?@ABCDEFGHIJKLMNOPQRSTUVWXYZ[\\\\]^_`abcdefghijklmnopqrstuvwxyz{|}~\\x7f'"
      ]
     },
     "execution_count": 47,
     "metadata": {},
     "output_type": "execute_result"
    }
   ],
   "source": [
    "# ASCII Characters\n",
    "''.join(chr(i) for i in range(128))"
   ]
  },
  {
   "cell_type": "code",
   "execution_count": 48,
   "id": "91355053",
   "metadata": {},
   "outputs": [
    {
     "data": {
      "text/plain": [
       "1.6105420589447021"
      ]
     },
     "execution_count": 48,
     "metadata": {},
     "output_type": "execute_result"
    }
   ],
   "source": [
    "t0 = time()\n",
    "df[['body_clean', 'title_clean']] = df[['body_clean', 'title_clean']].applymap(helper._removeNonAscii)\n",
    "time()- t0"
   ]
  },
  {
   "cell_type": "markdown",
   "id": "55c5ef55",
   "metadata": {},
   "source": [
    "<br>"
   ]
  },
  {
   "cell_type": "markdown",
   "id": "2d925311",
   "metadata": {},
   "source": [
    "<br>"
   ]
  },
  {
   "cell_type": "markdown",
   "id": "7a8abbc7",
   "metadata": {},
   "source": [
    "**remove all text starting with numbers**"
   ]
  },
  {
   "cell_type": "markdown",
   "id": "c81a4091",
   "metadata": {},
   "source": [
    "https://stackoverflow.com/questions/6664151/difference-between-b-and-b-in-regex"
   ]
  },
  {
   "cell_type": "code",
   "execution_count": 49,
   "id": "aa568581",
   "metadata": {},
   "outputs": [
    {
     "data": {
      "text/plain": [
       "'Why Trello Failed to Build a $  Billion+ Business'"
      ]
     },
     "execution_count": 49,
     "metadata": {},
     "output_type": "execute_result"
    }
   ],
   "source": [
    "# . --> any character\n",
    "# $ --> ends with\n",
    "# \\s --> space\n",
    "regex.sub(r'\\d+\\w*\\b', ' ', 'Why Trello Failed to Build a $100k Billion+ Business')"
   ]
  },
  {
   "cell_type": "code",
   "execution_count": 50,
   "id": "b5a0a478",
   "metadata": {},
   "outputs": [
    {
     "data": {
      "text/plain": [
       "' MarGo to Market Fit: Achieving Sustainable'"
      ]
     },
     "execution_count": 50,
     "metadata": {},
     "output_type": "execute_result"
    }
   ],
   "source": [
    "regex.sub(r'\\d+\\w*\\b', '', '01_ MarGo to Market Fit: Achieving Sustainable')"
   ]
  },
  {
   "cell_type": "code",
   "execution_count": 51,
   "id": "71e4a6f7",
   "metadata": {},
   "outputs": [
    {
     "data": {
      "text/plain": [
       "0.16374564170837402"
      ]
     },
     "execution_count": 51,
     "metadata": {},
     "output_type": "execute_result"
    }
   ],
   "source": [
    "t0 = time()\n",
    "df[['body_clean', 'title_clean']] = df[['body_clean', 'title_clean']].applymap(helper.remove_numbers)\n",
    "time()- t0"
   ]
  },
  {
   "cell_type": "code",
   "execution_count": 52,
   "id": "a889c73d",
   "metadata": {},
   "outputs": [
    {
     "name": "stdout",
     "output_type": "stream",
     "text": [
      "(2454, 5)\n"
     ]
    },
    {
     "data": {
      "text/html": [
       "<div>\n",
       "<style scoped>\n",
       "    .dataframe tbody tr th:only-of-type {\n",
       "        vertical-align: middle;\n",
       "    }\n",
       "\n",
       "    .dataframe tbody tr th {\n",
       "        vertical-align: top;\n",
       "    }\n",
       "\n",
       "    .dataframe thead th {\n",
       "        text-align: right;\n",
       "    }\n",
       "</style>\n",
       "<table border=\"1\" class=\"dataframe\">\n",
       "  <thead>\n",
       "    <tr style=\"text-align: right;\">\n",
       "      <th></th>\n",
       "      <th>body</th>\n",
       "      <th>title</th>\n",
       "      <th>category</th>\n",
       "      <th>title_clean</th>\n",
       "      <th>body_clean</th>\n",
       "    </tr>\n",
       "  </thead>\n",
       "  <tbody>\n",
       "    <tr>\n",
       "      <th>0</th>\n",
       "      <td>The Founder Institute’s “Startup Tips and Tric...</td>\n",
       "      <td>Make Your Entrepreneurial Journey Sufficientl...</td>\n",
       "      <td>Startups &amp; Business</td>\n",
       "      <td>make entrepreneurial journey sufficiently epic...</td>\n",
       "      <td>founder institute startup tips tricks series g...</td>\n",
       "    </tr>\n",
       "    <tr>\n",
       "      <th>1</th>\n",
       "      <td>JAXenter: Have microservices helped you achiev...</td>\n",
       "      <td>\"The size of a microservice is the size of the...</td>\n",
       "      <td>Engineering</td>\n",
       "      <td>size microservice size team building</td>\n",
       "      <td>jaxenter microservices helped achieve goals av...</td>\n",
       "    </tr>\n",
       "    <tr>\n",
       "      <th>2</th>\n",
       "      <td>Interview with Fabian Reinartz and Björn Raben...</td>\n",
       "      <td>\"Transition to microservices while running und...</td>\n",
       "      <td>Engineering</td>\n",
       "      <td>transition microservices running full steam easy</td>\n",
       "      <td>interview fabian reinartz bjrn rabenstein soun...</td>\n",
       "    </tr>\n",
       "    <tr>\n",
       "      <th>3</th>\n",
       "      <td>Why do many companies sprint from initial conc...</td>\n",
       "      <td>01 MarGo to Market Fit: Achieving Sustainable ...</td>\n",
       "      <td>Startups &amp; Business</td>\n",
       "      <td>margo market fit achieving sustainable growth</td>\n",
       "      <td>many companies sprint initial concept product ...</td>\n",
       "    </tr>\n",
       "    <tr>\n",
       "      <th>4</th>\n",
       "      <td>1. Advisors\\n\\nChoose experienced advisors ear...</td>\n",
       "      <td>1. Advisors</td>\n",
       "      <td>Startups &amp; Business</td>\n",
       "      <td>advisors</td>\n",
       "      <td>advisors choose experienced advisors early inc...</td>\n",
       "    </tr>\n",
       "  </tbody>\n",
       "</table>\n",
       "</div>"
      ],
      "text/plain": [
       "                                                body  \\\n",
       "0  The Founder Institute’s “Startup Tips and Tric...   \n",
       "1  JAXenter: Have microservices helped you achiev...   \n",
       "2  Interview with Fabian Reinartz and Björn Raben...   \n",
       "3  Why do many companies sprint from initial conc...   \n",
       "4  1. Advisors\\n\\nChoose experienced advisors ear...   \n",
       "\n",
       "                                               title             category  \\\n",
       "0   Make Your Entrepreneurial Journey Sufficientl...  Startups & Business   \n",
       "1  \"The size of a microservice is the size of the...          Engineering   \n",
       "2  \"Transition to microservices while running und...          Engineering   \n",
       "3  01 MarGo to Market Fit: Achieving Sustainable ...  Startups & Business   \n",
       "4                                        1. Advisors  Startups & Business   \n",
       "\n",
       "                                         title_clean  \\\n",
       "0  make entrepreneurial journey sufficiently epic...   \n",
       "1               size microservice size team building   \n",
       "2   transition microservices running full steam easy   \n",
       "3      margo market fit achieving sustainable growth   \n",
       "4                                           advisors   \n",
       "\n",
       "                                          body_clean  \n",
       "0  founder institute startup tips tricks series g...  \n",
       "1  jaxenter microservices helped achieve goals av...  \n",
       "2  interview fabian reinartz bjrn rabenstein soun...  \n",
       "3  many companies sprint initial concept product ...  \n",
       "4  advisors choose experienced advisors early inc...  "
      ]
     },
     "execution_count": 52,
     "metadata": {},
     "output_type": "execute_result"
    }
   ],
   "source": [
    "print(df.shape)\n",
    "df.head()"
   ]
  },
  {
   "cell_type": "markdown",
   "id": "7da807ed",
   "metadata": {},
   "source": [
    "<br>"
   ]
  },
  {
   "cell_type": "code",
   "execution_count": 53,
   "id": "e729f40f",
   "metadata": {},
   "outputs": [],
   "source": [
    "# importlib.reload(helper)"
   ]
  },
  {
   "cell_type": "markdown",
   "id": "5747ffd1",
   "metadata": {},
   "source": [
    "**2. Remove words with less than 3 characters (Again after cleaning)**"
   ]
  },
  {
   "cell_type": "code",
   "execution_count": 54,
   "id": "9583164a",
   "metadata": {},
   "outputs": [
    {
     "data": {
      "text/plain": [
       "'Why Trello Failed  Build  $ Billion+ Business'"
      ]
     },
     "execution_count": 54,
     "metadata": {},
     "output_type": "execute_result"
    }
   ],
   "source": [
    "# b --> blank | word break\n",
    "regex.sub(r'\\b\\w{,2}\\b', '', 'Why Trello Failed to Build a $1 Billion+ Business')"
   ]
  },
  {
   "cell_type": "code",
   "execution_count": 55,
   "id": "e00ebeb3",
   "metadata": {},
   "outputs": [
    {
     "data": {
      "text/plain": [
       "'Trello Failed Build Billion+ Business'"
      ]
     },
     "execution_count": 55,
     "metadata": {},
     "output_type": "execute_result"
    }
   ],
   "source": [
    "helper.remove_short_words('Why Trello Failed to Build a $1 Billion+ Business')"
   ]
  },
  {
   "cell_type": "code",
   "execution_count": 56,
   "id": "cdee4b8e",
   "metadata": {},
   "outputs": [
    {
     "data": {
      "text/plain": [
       "0.35280609130859375"
      ]
     },
     "execution_count": 56,
     "metadata": {},
     "output_type": "execute_result"
    }
   ],
   "source": [
    "t0 = time()\n",
    "df[['body_clean', 'title_clean']] = df[['body_clean', 'title_clean']].applymap(helper.remove_short_words)\n",
    "time()- t0"
   ]
  },
  {
   "cell_type": "markdown",
   "id": "1aa36aa8",
   "metadata": {},
   "source": [
    "<br>"
   ]
  },
  {
   "cell_type": "code",
   "execution_count": 57,
   "id": "e1524282",
   "metadata": {
    "scrolled": true
   },
   "outputs": [],
   "source": [
    "# df.title_clean.value_counts().head(10)"
   ]
  },
  {
   "cell_type": "markdown",
   "id": "dcd8fc5c",
   "metadata": {},
   "source": [
    "**Check for the repeated titles after cleaning**"
   ]
  },
  {
   "cell_type": "code",
   "execution_count": 58,
   "id": "b36e1da7",
   "metadata": {},
   "outputs": [
    {
     "data": {
      "text/plain": [
       "Index(['attacking machine learning adversarial examples', 'internet economy',\n",
       "       'must reads startup people',\n",
       "       'photo editing generative adversarial networks part', 'growth',\n",
       "       'play dead snakes kill projects kill',\n",
       "       'trello failed build billion business',\n",
       "       'start right foot build customer advisory board',\n",
       "       'humans hate spun practice radical honesty woman defined netflix culture',\n",
       "       'weeks goldilocks product timeframes',\n",
       "       'track facilitate engineers flow states simple',\n",
       "       'data fast data four weeks reactive programming changing world part',\n",
       "       'making engineering team communication clearer faster better',\n",
       "       'pitch immeasurable leadership tips',\n",
       "       'great help content starts great questions',\n",
       "       'important questions scoping', 'grow faster pause questions stripe',\n",
       "       'netflix billing migration part'],\n",
       "      dtype='object')"
      ]
     },
     "execution_count": 58,
     "metadata": {},
     "output_type": "execute_result"
    }
   ],
   "source": [
    "# Check for the repeated titles after cleaning\n",
    "repeated_titles3 = df.title_clean.value_counts()[df.title_clean.value_counts() > 1].index\n",
    "repeated_titles3"
   ]
  },
  {
   "cell_type": "code",
   "execution_count": 59,
   "id": "e3af2fe5",
   "metadata": {},
   "outputs": [
    {
     "data": {
      "text/html": [
       "<div>\n",
       "<style scoped>\n",
       "    .dataframe tbody tr th:only-of-type {\n",
       "        vertical-align: middle;\n",
       "    }\n",
       "\n",
       "    .dataframe tbody tr th {\n",
       "        vertical-align: top;\n",
       "    }\n",
       "\n",
       "    .dataframe thead th {\n",
       "        text-align: right;\n",
       "    }\n",
       "</style>\n",
       "<table border=\"1\" class=\"dataframe\">\n",
       "  <thead>\n",
       "    <tr style=\"text-align: right;\">\n",
       "      <th></th>\n",
       "      <th>body</th>\n",
       "      <th>title</th>\n",
       "      <th>category</th>\n",
       "      <th>title_clean</th>\n",
       "      <th>body_clean</th>\n",
       "    </tr>\n",
       "  </thead>\n",
       "  <tbody>\n",
       "    <tr>\n",
       "      <th>147</th>\n",
       "      <td>6 weeks: why it’s the Goldilocks of product ti...</td>\n",
       "      <td>6 weeks: why it's the Goldilocks of product ti...</td>\n",
       "      <td>Product &amp; Design</td>\n",
       "      <td>weeks goldilocks product timeframes</td>\n",
       "      <td>weeks goldilocks product timeframes process pr...</td>\n",
       "    </tr>\n",
       "    <tr>\n",
       "      <th>148</th>\n",
       "      <td>Process for a product team can be suffocating,...</td>\n",
       "      <td>6 weeks: why it’s the Goldilocks of product ti...</td>\n",
       "      <td>Product &amp; Design</td>\n",
       "      <td>weeks goldilocks product timeframes</td>\n",
       "      <td>process product team suffocating process liber...</td>\n",
       "    </tr>\n",
       "    <tr>\n",
       "      <th>312</th>\n",
       "      <td>Adversarial examples are inputs to machine lea...</td>\n",
       "      <td>Attacking Machine Learning with Adversarial Ex...</td>\n",
       "      <td>Engineering</td>\n",
       "      <td>attacking machine learning adversarial examples</td>\n",
       "      <td>adversarial examples inputs machine learning m...</td>\n",
       "    </tr>\n",
       "    <tr>\n",
       "      <th>313</th>\n",
       "      <td>missing</td>\n",
       "      <td>Attacking machine learning with adversarial ex...</td>\n",
       "      <td>Engineering</td>\n",
       "      <td>attacking machine learning adversarial examples</td>\n",
       "      <td>missing</td>\n",
       "    </tr>\n",
       "    <tr>\n",
       "      <th>334</th>\n",
       "      <td>We tell startups all the time that they have t...</td>\n",
       "      <td>Before Growth</td>\n",
       "      <td>Startups &amp; Business</td>\n",
       "      <td>growth</td>\n",
       "      <td>tell startups time grow quickly true good advi...</td>\n",
       "    </tr>\n",
       "    <tr>\n",
       "      <th>597</th>\n",
       "      <td>This advice for working on the right projects ...</td>\n",
       "      <td>Don't Play with Dead Snakes - Kill Projects Be...</td>\n",
       "      <td>Startups &amp; Business</td>\n",
       "      <td>play dead snakes kill projects kill</td>\n",
       "      <td>advice working right projects jettisoning wron...</td>\n",
       "    </tr>\n",
       "    <tr>\n",
       "      <th>598</th>\n",
       "      <td>This advice for working on the right projects ...</td>\n",
       "      <td>Don't Play with Dead Snakes — Kill Projects Be...</td>\n",
       "      <td>Startups &amp; Business</td>\n",
       "      <td>play dead snakes kill projects kill</td>\n",
       "      <td>advice working right projects jettisoning wron...</td>\n",
       "    </tr>\n",
       "    <tr>\n",
       "      <th>719</th>\n",
       "      <td>Part 1: Reactive Manifesto’s Invisible Hand\\r\\...</td>\n",
       "      <td>From Big Data to Fast Data in Four Weeks or Ho...</td>\n",
       "      <td>Engineering</td>\n",
       "      <td>data fast data four weeks reactive programming...</td>\n",
       "      <td>part reactive manifesto invisible hand first s...</td>\n",
       "    </tr>\n",
       "    <tr>\n",
       "      <th>720</th>\n",
       "      <td>Part 2: Lambda Architecture meets reality\\n\\nP...</td>\n",
       "      <td>From Big Data to Fast Data in Four Weeks or Ho...</td>\n",
       "      <td>Engineering</td>\n",
       "      <td>data fast data four weeks reactive programming...</td>\n",
       "      <td>part lambda architecture meets reality part fo...</td>\n",
       "    </tr>\n",
       "    <tr>\n",
       "      <th>778</th>\n",
       "      <td>I spent over a decade as a product manager at ...</td>\n",
       "      <td>Great help content starts with great questions</td>\n",
       "      <td>Startups &amp; Business</td>\n",
       "      <td>great help content starts great questions</td>\n",
       "      <td>spent decade product manager number different ...</td>\n",
       "    </tr>\n",
       "    <tr>\n",
       "      <th>779</th>\n",
       "      <td>So if the questions you ask your team, yoursel...</td>\n",
       "      <td>Great help content starts with great questions</td>\n",
       "      <td>Product &amp; Design</td>\n",
       "      <td>great help content starts great questions</td>\n",
       "      <td>questions team even google directly impact qua...</td>\n",
       "    </tr>\n",
       "    <tr>\n",
       "      <th>783</th>\n",
       "      <td>Several other important pitfalls can threaten ...</td>\n",
       "      <td>Growth</td>\n",
       "      <td>Startups &amp; Business</td>\n",
       "      <td>growth</td>\n",
       "      <td>several important pitfalls threaten marketplac...</td>\n",
       "    </tr>\n",
       "    <tr>\n",
       "      <th>1133</th>\n",
       "      <td>Netflix is a place where people win. They exce...</td>\n",
       "      <td>Humans Hate Being Spun: How to Practice Radica...</td>\n",
       "      <td>Startups &amp; Business</td>\n",
       "      <td>humans hate spun practice radical honesty woma...</td>\n",
       "      <td>netflix place people exceed expectations conqu...</td>\n",
       "    </tr>\n",
       "    <tr>\n",
       "      <th>1134</th>\n",
       "      <td>Netflix is a place where people win. They exce...</td>\n",
       "      <td>Humans Hate Being Spun: How to Practice Radica...</td>\n",
       "      <td>Startups &amp; Business</td>\n",
       "      <td>humans hate spun practice radical honesty woma...</td>\n",
       "      <td>netflix place people exceed expectations conqu...</td>\n",
       "    </tr>\n",
       "    <tr>\n",
       "      <th>1191</th>\n",
       "      <td>The Internet Economy\\n\\nWe are living in an er...</td>\n",
       "      <td>Internet Economy</td>\n",
       "      <td>Startups &amp; Business</td>\n",
       "      <td>internet economy</td>\n",
       "      <td>internet economy living bundling five consumer...</td>\n",
       "    </tr>\n",
       "    <tr>\n",
       "      <th>1310</th>\n",
       "      <td>15 engineers.\\n\\nThat’s the size things start ...</td>\n",
       "      <td>Making Engineering Team Communication Clearer,...</td>\n",
       "      <td>Engineering</td>\n",
       "      <td>making engineering team communication clearer ...</td>\n",
       "      <td>engineers size things start sideways startup e...</td>\n",
       "    </tr>\n",
       "    <tr>\n",
       "      <th>1311</th>\n",
       "      <td>15 engineers.\\n\\nThat’s the size things start ...</td>\n",
       "      <td>Making Engineering Team Communication Clearer,...</td>\n",
       "      <td>Startups &amp; Business</td>\n",
       "      <td>making engineering team communication clearer ...</td>\n",
       "      <td>engineers size things start sideways startup e...</td>\n",
       "    </tr>\n",
       "    <tr>\n",
       "      <th>1384</th>\n",
       "      <td>Netflix Billing Migration to AWS — Part II\\n\\n...</td>\n",
       "      <td>Netflix Billing Migration to AWS - Part II</td>\n",
       "      <td>Engineering</td>\n",
       "      <td>netflix billing migration part</td>\n",
       "      <td>netflix billing migration part continuation se...</td>\n",
       "    </tr>\n",
       "    <tr>\n",
       "      <th>1385</th>\n",
       "      <td>Billing applications have transactions that ne...</td>\n",
       "      <td>Netflix Billing Migration to AWS - Part III</td>\n",
       "      <td>Engineering</td>\n",
       "      <td>netflix billing migration part</td>\n",
       "      <td>billing applications transactions need acid co...</td>\n",
       "    </tr>\n",
       "    <tr>\n",
       "      <th>1442</th>\n",
       "      <td>There are a handful of oft-cited, number-based...</td>\n",
       "      <td>Our 6 Must Reads if You're at a Startup With 3...</td>\n",
       "      <td>Startups &amp; Business</td>\n",
       "      <td>must reads startup people</td>\n",
       "      <td>handful cited number based theories around ide...</td>\n",
       "    </tr>\n",
       "    <tr>\n",
       "      <th>1443</th>\n",
       "      <td>There are a handful of oft-cited, number-based...</td>\n",
       "      <td>Our 6 Must Reads if You’re at a Startup With 3...</td>\n",
       "      <td>Startups &amp; Business</td>\n",
       "      <td>must reads startup people</td>\n",
       "      <td>handful cited number based theories around ide...</td>\n",
       "    </tr>\n",
       "    <tr>\n",
       "      <th>1477</th>\n",
       "      <td>Adversarial training (also called GAN for Gene...</td>\n",
       "      <td>Photo Editing with Generative Adversarial Netw...</td>\n",
       "      <td>Engineering</td>\n",
       "      <td>photo editing generative adversarial networks ...</td>\n",
       "      <td>adversarial training also called generative ad...</td>\n",
       "    </tr>\n",
       "    <tr>\n",
       "      <th>1478</th>\n",
       "      <td>In part 1 of this series I introduced Generati...</td>\n",
       "      <td>Photo Editing with Generative Adversarial Netw...</td>\n",
       "      <td>Engineering</td>\n",
       "      <td>photo editing generative adversarial networks ...</td>\n",
       "      <td>part series introduced generative adversarial ...</td>\n",
       "    </tr>\n",
       "    <tr>\n",
       "      <th>1715</th>\n",
       "      <td>“We were able to email 10 of our customer advi...</td>\n",
       "      <td>Start Up on the Right Foot - Build a Customer ...</td>\n",
       "      <td>Product &amp; Design</td>\n",
       "      <td>start right foot build customer advisory board</td>\n",
       "      <td>able email customer advisory board members giv...</td>\n",
       "    </tr>\n",
       "    <tr>\n",
       "      <th>1716</th>\n",
       "      <td>“We were able to email 10 of our customer advi...</td>\n",
       "      <td>Start Up on the Right Foot — Build a Customer ...</td>\n",
       "      <td>Startups &amp; Business</td>\n",
       "      <td>start right foot build customer advisory board</td>\n",
       "      <td>able email customer advisory board members giv...</td>\n",
       "    </tr>\n",
       "    <tr>\n",
       "      <th>1886</th>\n",
       "      <td>The Internet Economy\\n\\nWe are living in an er...</td>\n",
       "      <td>The Internet Economy</td>\n",
       "      <td>Startups &amp; Business</td>\n",
       "      <td>internet economy</td>\n",
       "      <td>internet economy living bundling five consumer...</td>\n",
       "    </tr>\n",
       "    <tr>\n",
       "      <th>1988</th>\n",
       "      <td>Imagine yourself 3 months from now.\\n\\nYou’ve ...</td>\n",
       "      <td>The Two Most Important Questions When Scoping ...</td>\n",
       "      <td>Product &amp; Design</td>\n",
       "      <td>important questions scoping</td>\n",
       "      <td>imagine months poured life savings life bringi...</td>\n",
       "    </tr>\n",
       "    <tr>\n",
       "      <th>2060</th>\n",
       "      <td>“I have got an idea!” 😃 😉\\n\\nThat’s the founda...</td>\n",
       "      <td>The two most important questions when scoping ...</td>\n",
       "      <td>Product &amp; Design</td>\n",
       "      <td>important questions scoping</td>\n",
       "      <td>idea foundation many successful unsuccessful s...</td>\n",
       "    </tr>\n",
       "    <tr>\n",
       "      <th>2101</th>\n",
       "      <td>Stripe is growing at breakneck speed, and it h...</td>\n",
       "      <td>To Grow Faster, Hit Pause - and Ask These Ques...</td>\n",
       "      <td>Startups &amp; Business</td>\n",
       "      <td>grow faster pause questions stripe</td>\n",
       "      <td>stripe growing breakneck speed years beginning...</td>\n",
       "    </tr>\n",
       "    <tr>\n",
       "      <th>2102</th>\n",
       "      <td>Stripe is growing at breakneck speed, and it h...</td>\n",
       "      <td>To Grow Faster, Hit Pause — and Ask These Ques...</td>\n",
       "      <td>Startups &amp; Business</td>\n",
       "      <td>grow faster pause questions stripe</td>\n",
       "      <td>stripe growing breakneck speed years beginning...</td>\n",
       "    </tr>\n",
       "    <tr>\n",
       "      <th>2117</th>\n",
       "      <td>Many business leaders hesitate when you ask th...</td>\n",
       "      <td>Track and Facilitate Your Engineers' Flow Stat...</td>\n",
       "      <td>Startups &amp; Business</td>\n",
       "      <td>track facilitate engineers flow states simple</td>\n",
       "      <td>many business leaders hesitate share biggest m...</td>\n",
       "    </tr>\n",
       "    <tr>\n",
       "      <th>2118</th>\n",
       "      <td>Many business leaders hesitate when you ask th...</td>\n",
       "      <td>Track and Facilitate Your Engineers’ Flow Stat...</td>\n",
       "      <td>Startups &amp; Business</td>\n",
       "      <td>track facilitate engineers flow states simple</td>\n",
       "      <td>many business leaders hesitate share biggest m...</td>\n",
       "    </tr>\n",
       "    <tr>\n",
       "      <th>2344</th>\n",
       "      <td>In 2011, Joel Spolsky launched his company Fog...</td>\n",
       "      <td>Why Trello Failed to Build a $1 Billion+ Business</td>\n",
       "      <td>Startups &amp; Business</td>\n",
       "      <td>trello failed build billion business</td>\n",
       "      <td>joel spolsky launched company creek product te...</td>\n",
       "    </tr>\n",
       "    <tr>\n",
       "      <th>2345</th>\n",
       "      <td>Why Trello Failed to Build a $1 Billion+ Busin...</td>\n",
       "      <td>Why Trello Failed to Build a $1 Billion+ Business</td>\n",
       "      <td>Startups &amp; Business</td>\n",
       "      <td>trello failed build billion business</td>\n",
       "      <td>trello failed build billion business joel spol...</td>\n",
       "    </tr>\n",
       "    <tr>\n",
       "      <th>2454</th>\n",
       "      <td>Eventbrite. Airbnb. Vanessa Hope Schneider has...</td>\n",
       "      <td>‘Pitch the Immeasurable' and Other Leadership ...</td>\n",
       "      <td>Startups &amp; Business</td>\n",
       "      <td>pitch immeasurable leadership tips</td>\n",
       "      <td>eventbrite airbnb vanessa hope schneider helpe...</td>\n",
       "    </tr>\n",
       "    <tr>\n",
       "      <th>2455</th>\n",
       "      <td>Eventbrite. Airbnb. Vanessa Hope Schneider has...</td>\n",
       "      <td>‘Pitch the Immeasurable’ and Other Leadership ...</td>\n",
       "      <td>Startups &amp; Business</td>\n",
       "      <td>pitch immeasurable leadership tips</td>\n",
       "      <td>eventbrite airbnb vanessa hope schneider helpe...</td>\n",
       "    </tr>\n",
       "  </tbody>\n",
       "</table>\n",
       "</div>"
      ],
      "text/plain": [
       "                                                   body  \\\n",
       "147   6 weeks: why it’s the Goldilocks of product ti...   \n",
       "148   Process for a product team can be suffocating,...   \n",
       "312   Adversarial examples are inputs to machine lea...   \n",
       "313                                             missing   \n",
       "334   We tell startups all the time that they have t...   \n",
       "597   This advice for working on the right projects ...   \n",
       "598   This advice for working on the right projects ...   \n",
       "719   Part 1: Reactive Manifesto’s Invisible Hand\\r\\...   \n",
       "720   Part 2: Lambda Architecture meets reality\\n\\nP...   \n",
       "778   I spent over a decade as a product manager at ...   \n",
       "779   So if the questions you ask your team, yoursel...   \n",
       "783   Several other important pitfalls can threaten ...   \n",
       "1133  Netflix is a place where people win. They exce...   \n",
       "1134  Netflix is a place where people win. They exce...   \n",
       "1191  The Internet Economy\\n\\nWe are living in an er...   \n",
       "1310  15 engineers.\\n\\nThat’s the size things start ...   \n",
       "1311  15 engineers.\\n\\nThat’s the size things start ...   \n",
       "1384  Netflix Billing Migration to AWS — Part II\\n\\n...   \n",
       "1385  Billing applications have transactions that ne...   \n",
       "1442  There are a handful of oft-cited, number-based...   \n",
       "1443  There are a handful of oft-cited, number-based...   \n",
       "1477  Adversarial training (also called GAN for Gene...   \n",
       "1478  In part 1 of this series I introduced Generati...   \n",
       "1715  “We were able to email 10 of our customer advi...   \n",
       "1716  “We were able to email 10 of our customer advi...   \n",
       "1886  The Internet Economy\\n\\nWe are living in an er...   \n",
       "1988  Imagine yourself 3 months from now.\\n\\nYou’ve ...   \n",
       "2060  “I have got an idea!” 😃 😉\\n\\nThat’s the founda...   \n",
       "2101  Stripe is growing at breakneck speed, and it h...   \n",
       "2102  Stripe is growing at breakneck speed, and it h...   \n",
       "2117  Many business leaders hesitate when you ask th...   \n",
       "2118  Many business leaders hesitate when you ask th...   \n",
       "2344  In 2011, Joel Spolsky launched his company Fog...   \n",
       "2345  Why Trello Failed to Build a $1 Billion+ Busin...   \n",
       "2454  Eventbrite. Airbnb. Vanessa Hope Schneider has...   \n",
       "2455  Eventbrite. Airbnb. Vanessa Hope Schneider has...   \n",
       "\n",
       "                                                  title             category  \\\n",
       "147   6 weeks: why it's the Goldilocks of product ti...     Product & Design   \n",
       "148   6 weeks: why it’s the Goldilocks of product ti...     Product & Design   \n",
       "312   Attacking Machine Learning with Adversarial Ex...          Engineering   \n",
       "313   Attacking machine learning with adversarial ex...          Engineering   \n",
       "334                                       Before Growth  Startups & Business   \n",
       "597   Don't Play with Dead Snakes - Kill Projects Be...  Startups & Business   \n",
       "598   Don't Play with Dead Snakes — Kill Projects Be...  Startups & Business   \n",
       "719   From Big Data to Fast Data in Four Weeks or Ho...          Engineering   \n",
       "720   From Big Data to Fast Data in Four Weeks or Ho...          Engineering   \n",
       "778      Great help content starts with great questions  Startups & Business   \n",
       "779      Great help content starts with great questions     Product & Design   \n",
       "783                                              Growth  Startups & Business   \n",
       "1133  Humans Hate Being Spun: How to Practice Radica...  Startups & Business   \n",
       "1134  Humans Hate Being Spun: How to Practice Radica...  Startups & Business   \n",
       "1191                                   Internet Economy  Startups & Business   \n",
       "1310  Making Engineering Team Communication Clearer,...          Engineering   \n",
       "1311  Making Engineering Team Communication Clearer,...  Startups & Business   \n",
       "1384         Netflix Billing Migration to AWS - Part II          Engineering   \n",
       "1385        Netflix Billing Migration to AWS - Part III          Engineering   \n",
       "1442  Our 6 Must Reads if You're at a Startup With 3...  Startups & Business   \n",
       "1443  Our 6 Must Reads if You’re at a Startup With 3...  Startups & Business   \n",
       "1477  Photo Editing with Generative Adversarial Netw...          Engineering   \n",
       "1478  Photo Editing with Generative Adversarial Netw...          Engineering   \n",
       "1715  Start Up on the Right Foot - Build a Customer ...     Product & Design   \n",
       "1716  Start Up on the Right Foot — Build a Customer ...  Startups & Business   \n",
       "1886                               The Internet Economy  Startups & Business   \n",
       "1988  The Two Most Important Questions When Scoping ...     Product & Design   \n",
       "2060  The two most important questions when scoping ...     Product & Design   \n",
       "2101  To Grow Faster, Hit Pause - and Ask These Ques...  Startups & Business   \n",
       "2102  To Grow Faster, Hit Pause — and Ask These Ques...  Startups & Business   \n",
       "2117  Track and Facilitate Your Engineers' Flow Stat...  Startups & Business   \n",
       "2118  Track and Facilitate Your Engineers’ Flow Stat...  Startups & Business   \n",
       "2344  Why Trello Failed to Build a $1 Billion+ Business  Startups & Business   \n",
       "2345  Why Trello Failed to Build a $1 Billion+ Business  Startups & Business   \n",
       "2454  ‘Pitch the Immeasurable' and Other Leadership ...  Startups & Business   \n",
       "2455  ‘Pitch the Immeasurable’ and Other Leadership ...  Startups & Business   \n",
       "\n",
       "                                            title_clean  \\\n",
       "147                 weeks goldilocks product timeframes   \n",
       "148                 weeks goldilocks product timeframes   \n",
       "312     attacking machine learning adversarial examples   \n",
       "313     attacking machine learning adversarial examples   \n",
       "334                                              growth   \n",
       "597                 play dead snakes kill projects kill   \n",
       "598                 play dead snakes kill projects kill   \n",
       "719   data fast data four weeks reactive programming...   \n",
       "720   data fast data four weeks reactive programming...   \n",
       "778           great help content starts great questions   \n",
       "779           great help content starts great questions   \n",
       "783                                              growth   \n",
       "1133  humans hate spun practice radical honesty woma...   \n",
       "1134  humans hate spun practice radical honesty woma...   \n",
       "1191                                   internet economy   \n",
       "1310  making engineering team communication clearer ...   \n",
       "1311  making engineering team communication clearer ...   \n",
       "1384                     netflix billing migration part   \n",
       "1385                     netflix billing migration part   \n",
       "1442                          must reads startup people   \n",
       "1443                          must reads startup people   \n",
       "1477  photo editing generative adversarial networks ...   \n",
       "1478  photo editing generative adversarial networks ...   \n",
       "1715     start right foot build customer advisory board   \n",
       "1716     start right foot build customer advisory board   \n",
       "1886                                   internet economy   \n",
       "1988                        important questions scoping   \n",
       "2060                        important questions scoping   \n",
       "2101                 grow faster pause questions stripe   \n",
       "2102                 grow faster pause questions stripe   \n",
       "2117      track facilitate engineers flow states simple   \n",
       "2118      track facilitate engineers flow states simple   \n",
       "2344               trello failed build billion business   \n",
       "2345               trello failed build billion business   \n",
       "2454                 pitch immeasurable leadership tips   \n",
       "2455                 pitch immeasurable leadership tips   \n",
       "\n",
       "                                             body_clean  \n",
       "147   weeks goldilocks product timeframes process pr...  \n",
       "148   process product team suffocating process liber...  \n",
       "312   adversarial examples inputs machine learning m...  \n",
       "313                                             missing  \n",
       "334   tell startups time grow quickly true good advi...  \n",
       "597   advice working right projects jettisoning wron...  \n",
       "598   advice working right projects jettisoning wron...  \n",
       "719   part reactive manifesto invisible hand first s...  \n",
       "720   part lambda architecture meets reality part fo...  \n",
       "778   spent decade product manager number different ...  \n",
       "779   questions team even google directly impact qua...  \n",
       "783   several important pitfalls threaten marketplac...  \n",
       "1133  netflix place people exceed expectations conqu...  \n",
       "1134  netflix place people exceed expectations conqu...  \n",
       "1191  internet economy living bundling five consumer...  \n",
       "1310  engineers size things start sideways startup e...  \n",
       "1311  engineers size things start sideways startup e...  \n",
       "1384  netflix billing migration part continuation se...  \n",
       "1385  billing applications transactions need acid co...  \n",
       "1442  handful cited number based theories around ide...  \n",
       "1443  handful cited number based theories around ide...  \n",
       "1477  adversarial training also called generative ad...  \n",
       "1478  part series introduced generative adversarial ...  \n",
       "1715  able email customer advisory board members giv...  \n",
       "1716  able email customer advisory board members giv...  \n",
       "1886  internet economy living bundling five consumer...  \n",
       "1988  imagine months poured life savings life bringi...  \n",
       "2060  idea foundation many successful unsuccessful s...  \n",
       "2101  stripe growing breakneck speed years beginning...  \n",
       "2102  stripe growing breakneck speed years beginning...  \n",
       "2117  many business leaders hesitate share biggest m...  \n",
       "2118  many business leaders hesitate share biggest m...  \n",
       "2344  joel spolsky launched company creek product te...  \n",
       "2345  trello failed build billion business joel spol...  \n",
       "2454  eventbrite airbnb vanessa hope schneider helpe...  \n",
       "2455  eventbrite airbnb vanessa hope schneider helpe...  "
      ]
     },
     "execution_count": 59,
     "metadata": {},
     "output_type": "execute_result"
    }
   ],
   "source": [
    "df[df.title_clean.isin(repeated_titles3)]"
   ]
  },
  {
   "cell_type": "markdown",
   "id": "8646d9c6",
   "metadata": {},
   "source": [
    "**Drop Remaining Duplicated Titles** <br>\n",
    "If we dropped them we'll lose some information, since they have different bodies"
   ]
  },
  {
   "cell_type": "code",
   "execution_count": 60,
   "id": "fe20b84f",
   "metadata": {},
   "outputs": [],
   "source": [
    "# df.drop_duplicates(subset='title', inplace=True)"
   ]
  },
  {
   "cell_type": "markdown",
   "id": "ac86df31",
   "metadata": {},
   "source": [
    "<a id='save'></a>\n",
    "## Step 5: Save The Cleaned DataFrame\n",
    "<ul>\n",
    "<li><a href=\"#load\">Step 0: Load the Data</a></li>\n",
    "<li><a href=\"#nan\">Step 1: Check for NaNs</a></li>\n",
    "<li><a href=\"#duplicate\">Step 2: Check for Duplicates</a></li>\n",
    "<li><a href=\"#short\">Step 3: Check short Titles</a></li>\n",
    "<li><a href=\"#preprocess\">Step 4: Text Preprocessing</a></li>  \n",
    "<li><a href=\"#save\"><b>Step 5: Save The Cleaned DataFrame</b></a></li>  \n",
    "<li><a href=\"#end\">End of Notebook</a></li>  \n",
    "</ul>"
   ]
  },
  {
   "cell_type": "code",
   "execution_count": 61,
   "id": "a20277fb",
   "metadata": {},
   "outputs": [],
   "source": [
    "df.to_csv('clean_data.csv', index=False)"
   ]
  },
  {
   "cell_type": "markdown",
   "id": "4dd0bb9b",
   "metadata": {},
   "source": [
    "<br>"
   ]
  },
  {
   "cell_type": "markdown",
   "id": "da8807a4",
   "metadata": {},
   "source": [
    "## Tokenization\n",
    "1. text into a list of unique words.\n",
    "2. remove stop words."
   ]
  },
  {
   "cell_type": "code",
   "execution_count": 62,
   "id": "45888cd4",
   "metadata": {},
   "outputs": [
    {
     "name": "stdout",
     "output_type": "stream",
     "text": [
      "179\n"
     ]
    }
   ],
   "source": [
    "stop_words = stopwords.words('english')\n",
    "print(len(stop_words))\n",
    "# stop_words"
   ]
  },
  {
   "cell_type": "code",
   "execution_count": 63,
   "id": "e549942d",
   "metadata": {},
   "outputs": [],
   "source": [
    "# for lang in stopwords.fileids():\n",
    "#      print(lang)"
   ]
  },
  {
   "cell_type": "code",
   "execution_count": 64,
   "id": "cbe80450",
   "metadata": {},
   "outputs": [],
   "source": [
    "# # Stop Words in more than one language\n",
    "# all_stop_words = []\n",
    "# for lang in stopwords.fileids():\n",
    "#     all_stop_words.append(stopwords.words(lang))\n",
    "# all_stop_words = [item for sublist in all_stop_words for item in sublist]\n",
    "# all_stop_words"
   ]
  },
  {
   "cell_type": "code",
   "execution_count": 65,
   "id": "2a99b893",
   "metadata": {},
   "outputs": [],
   "source": [
    "# print(df.title[0])\n",
    "# [i for i in [i for i in word_tokenize(df.title[0]) if i not in stop_words] if i.isalnum()]  "
   ]
  },
  {
   "cell_type": "code",
   "execution_count": 66,
   "id": "f22b8634",
   "metadata": {},
   "outputs": [],
   "source": [
    "# def tokenize(text):\n",
    "#     return [i for i in [i for i in word_tokenize(text) if i not in stop_words] if i.isalnum()]    "
   ]
  },
  {
   "cell_type": "code",
   "execution_count": 67,
   "id": "d00ff02f",
   "metadata": {},
   "outputs": [],
   "source": [
    "# # Extract tokens (words) From Titles\n",
    "# t0 = time()\n",
    "# df['tokens'] = df.title.apply(lambda x: tokenize(x))\n",
    "# print(time() - t0)"
   ]
  },
  {
   "cell_type": "code",
   "execution_count": 68,
   "id": "4b926acb",
   "metadata": {},
   "outputs": [],
   "source": [
    "# # Use Sets to Remove all list duplicates\n",
    "# df['tokens'] = df.tokens.apply(lambda x: set(x))\n",
    "# df.head()"
   ]
  },
  {
   "cell_type": "code",
   "execution_count": 69,
   "id": "8b69ba75",
   "metadata": {},
   "outputs": [],
   "source": [
    "# df.title[3]"
   ]
  },
  {
   "cell_type": "code",
   "execution_count": 70,
   "id": "9fe4514f",
   "metadata": {},
   "outputs": [],
   "source": [
    "# type({})"
   ]
  },
  {
   "cell_type": "markdown",
   "id": "9fa5434f",
   "metadata": {},
   "source": [
    "https://stackoverflow.com/questions/51499385/how-to-add-values-to-a-new-column-in-pandas-dataframe"
   ]
  },
  {
   "cell_type": "code",
   "execution_count": 71,
   "id": "03835520",
   "metadata": {},
   "outputs": [],
   "source": [
    "# # Create a function to extract features manually from tokens\n",
    "# for index, words in enumerate(df_clean.tokens):\n",
    "#     for word in words:\n",
    "#         df_clean.at[index, word] = 1    \n",
    "# # PerformanceWarning:"
   ]
  },
  {
   "cell_type": "code",
   "execution_count": 72,
   "id": "524998ac",
   "metadata": {},
   "outputs": [],
   "source": [
    "# df_clean[(df_clean == 1).any(axis=1)]"
   ]
  },
  {
   "cell_type": "markdown",
   "id": "6f81b263",
   "metadata": {},
   "source": [
    "<br>"
   ]
  },
  {
   "cell_type": "markdown",
   "id": "b669462a",
   "metadata": {},
   "source": [
    "<a id='end'></a>\n",
    "<ul>\n",
    "<li><a href=\"#load\">Step 0: Load the Data</a></li>\n",
    "<li><a href=\"#nan\">Step 1: Check for NaNs</a></li>\n",
    "<li><a href=\"#duplicate\">Step 2: Check for Duplicates</a></li>\n",
    "<li><a href=\"#short\">Step 3: Check short Titles</a></li>\n",
    "<li><a href=\"#preprocess\">Step 4: Text Preprocessing</a></li>  \n",
    "<li><a href=\"#save\">Step 5: Save The Cleaned DataFrame</a></li>  \n",
    "<li><a href=\"#end\"><b>End of Notebook</b></a></li>  \n",
    "</ul>\n",
    "\n",
    "# End of Notebook"
   ]
  },
  {
   "cell_type": "markdown",
   "id": "2316d3f9",
   "metadata": {},
   "source": [
    "<br>"
   ]
  }
 ],
 "metadata": {
  "kernelspec": {
   "display_name": "Python 3 (ipykernel)",
   "language": "python",
   "name": "python3"
  },
  "language_info": {
   "codemirror_mode": {
    "name": "ipython",
    "version": 3
   },
   "file_extension": ".py",
   "mimetype": "text/x-python",
   "name": "python",
   "nbconvert_exporter": "python",
   "pygments_lexer": "ipython3",
   "version": "3.8.12"
  }
 },
 "nbformat": 4,
 "nbformat_minor": 5
}
